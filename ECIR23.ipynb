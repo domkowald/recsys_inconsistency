{
 "cells": [
  {
   "cell_type": "code",
   "execution_count": 1,
   "metadata": {
    "pycharm": {
     "name": "#%%\n"
    }
   },
   "outputs": [],
   "source": [
    "# imports\n",
    "import sys\n",
    "import random as rd\n",
    "import pandas as pd\n",
    "import numpy as np\n",
    "import matplotlib.pyplot as plt\n",
    "from itertools import cycle, islice\n",
    "from sklearn.preprocessing import MinMaxScaler\n",
    "from sklearn.metrics import ndcg_score\n",
    "from collections import defaultdict\n",
    "from scipy import stats\n",
    "from surprise import AlgoBase\n",
    "from surprise import BaselineOnly\n",
    "from surprise import KNNBasic\n",
    "from surprise import KNNWithMeans\n",
    "from surprise import NMF\n",
    "from surprise import Dataset\n",
    "from surprise import Reader\n",
    "from surprise import accuracy\n",
    "from surprise import CoClustering\n",
    "from surprise.model_selection import train_test_split, KFold"
   ]
  },
  {
   "cell_type": "code",
   "execution_count": 2,
   "metadata": {
    "pycharm": {
     "name": "#%%\n"
    }
   },
   "outputs": [],
   "source": [
    "# constants and initialization\n",
    "dataset = 'lfm' # ml, anime\n",
    "item_threshold = 1 # 1 means no filtering\n",
    "my_seed = 0\n",
    "rd.seed(my_seed)\n",
    "np.random.seed(my_seed)\n",
    "predict_col = 'item'\n",
    "top_fraction = 0.2\n",
    "folds = 5\n",
    "user_events_cats_file = dataset + '/user_events_cats.txt'\n",
    "low_user_file = dataset + '/low_main_users.txt'\n",
    "medium_user_file = dataset + '/medium_main_users.txt'\n",
    "high_user_file = dataset + '/high_main_users.txt'\n",
    "\n",
    "cats_file = dataset + '/categories.txt'"
   ]
  },
  {
   "cell_type": "code",
   "execution_count": 239,
   "metadata": {
    "pycharm": {
     "name": "#%%\n"
    }
   },
   "outputs": [
    {
     "data": {
      "text/html": [
       "<div>\n",
       "<style scoped>\n",
       "    .dataframe tbody tr th:only-of-type {\n",
       "        vertical-align: middle;\n",
       "    }\n",
       "\n",
       "    .dataframe tbody tr th {\n",
       "        vertical-align: top;\n",
       "    }\n",
       "\n",
       "    .dataframe thead th {\n",
       "        text-align: right;\n",
       "    }\n",
       "</style>\n",
       "<table border=\"1\" class=\"dataframe\">\n",
       "  <thead>\n",
       "    <tr style=\"text-align: right;\">\n",
       "      <th></th>\n",
       "      <th>user</th>\n",
       "      <th>item</th>\n",
       "      <th>preference</th>\n",
       "      <th>cats</th>\n",
       "    </tr>\n",
       "  </thead>\n",
       "  <tbody>\n",
       "    <tr>\n",
       "      <th>0</th>\n",
       "      <td>1021445</td>\n",
       "      <td>57</td>\n",
       "      <td>123.148472</td>\n",
       "      <td>3|16|15|18</td>\n",
       "    </tr>\n",
       "    <tr>\n",
       "      <th>1</th>\n",
       "      <td>1021445</td>\n",
       "      <td>113</td>\n",
       "      <td>1.000000</td>\n",
       "      <td>2|16|18|3</td>\n",
       "    </tr>\n",
       "    <tr>\n",
       "      <th>2</th>\n",
       "      <td>1021445</td>\n",
       "      <td>137</td>\n",
       "      <td>101.336245</td>\n",
       "      <td>2|3|16|0</td>\n",
       "    </tr>\n",
       "    <tr>\n",
       "      <th>3</th>\n",
       "      <td>1021445</td>\n",
       "      <td>142</td>\n",
       "      <td>9.724891</td>\n",
       "      <td>0|3|2</td>\n",
       "    </tr>\n",
       "    <tr>\n",
       "      <th>4</th>\n",
       "      <td>1021445</td>\n",
       "      <td>179</td>\n",
       "      <td>5.362445</td>\n",
       "      <td>16|1|3|18|15|0</td>\n",
       "    </tr>\n",
       "    <tr>\n",
       "      <th>...</th>\n",
       "      <td>...</td>\n",
       "      <td>...</td>\n",
       "      <td>...</td>\n",
       "      <td>...</td>\n",
       "    </tr>\n",
       "    <tr>\n",
       "      <th>1417786</th>\n",
       "      <td>50071075</td>\n",
       "      <td>543672</td>\n",
       "      <td>61.775665</td>\n",
       "      <td>12</td>\n",
       "    </tr>\n",
       "    <tr>\n",
       "      <th>1417787</th>\n",
       "      <td>50071075</td>\n",
       "      <td>28392</td>\n",
       "      <td>23.790875</td>\n",
       "      <td>13|12|3</td>\n",
       "    </tr>\n",
       "    <tr>\n",
       "      <th>1417788</th>\n",
       "      <td>50071075</td>\n",
       "      <td>201181</td>\n",
       "      <td>8.596958</td>\n",
       "      <td>12|15</td>\n",
       "    </tr>\n",
       "    <tr>\n",
       "      <th>1417789</th>\n",
       "      <td>50071075</td>\n",
       "      <td>2902578</td>\n",
       "      <td>4.798479</td>\n",
       "      <td>5|3</td>\n",
       "    </tr>\n",
       "    <tr>\n",
       "      <th>1417790</th>\n",
       "      <td>50071075</td>\n",
       "      <td>328694</td>\n",
       "      <td>4.798479</td>\n",
       "      <td>12|2</td>\n",
       "    </tr>\n",
       "  </tbody>\n",
       "</table>\n",
       "<p>1417791 rows × 4 columns</p>\n",
       "</div>"
      ],
      "text/plain": [
       "             user     item  preference            cats\n",
       "0         1021445       57  123.148472      3|16|15|18\n",
       "1         1021445      113    1.000000       2|16|18|3\n",
       "2         1021445      137  101.336245        2|3|16|0\n",
       "3         1021445      142    9.724891           0|3|2\n",
       "4         1021445      179    5.362445  16|1|3|18|15|0\n",
       "...           ...      ...         ...             ...\n",
       "1417786  50071075   543672   61.775665              12\n",
       "1417787  50071075    28392   23.790875         13|12|3\n",
       "1417788  50071075   201181    8.596958           12|15\n",
       "1417789  50071075  2902578    4.798479             5|3\n",
       "1417790  50071075   328694    4.798479            12|2\n",
       "\n",
       "[1417791 rows x 4 columns]"
      ]
     },
     "execution_count": 239,
     "metadata": {},
     "output_type": "execute_result"
    }
   ],
   "source": [
    "cols_cats = ['user', 'item', 'preference', 'cats']\n",
    "df_events_cats = pd.read_csv(user_events_cats_file, sep=',').dropna()\n",
    "df_events_cats.columns = cols_cats\n",
    "df_events_cats['cats'] = df_events_cats['cats'].astype(str)\n",
    "df_events_cats"
   ]
  },
  {
   "cell_type": "code",
   "execution_count": 240,
   "metadata": {
    "pycharm": {
     "name": "#%%\n"
    }
   },
   "outputs": [
    {
     "name": "stdout",
     "output_type": "stream",
     "text": [
      "No. filtered user events: 1417791\n",
      "No. filtered items: 131188\n",
      "No. filtered users: 3000\n"
     ]
    }
   ],
   "source": [
    "df_events_cats = df_events_cats[df_events_cats['preference'] >= item_threshold]\n",
    "print('No. filtered user events: ' + str(len(df_events_cats)))\n",
    "print('No. filtered items: ' + str(len(df_events_cats[predict_col].unique())))\n",
    "print('No. filtered users: ' + str(len(df_events_cats['user'].unique())))"
   ]
  },
  {
   "cell_type": "code",
   "execution_count": 241,
   "metadata": {
    "pycharm": {
     "name": "#%%\n"
    }
   },
   "outputs": [
    {
     "name": "stdout",
     "output_type": "stream",
     "text": [
      "Mean items per user: 472.597\n",
      "Min items per user: 13\n",
      "Max items per user: 2901\n"
     ]
    }
   ],
   "source": [
    "# get user distribution\n",
    "user_dist = df_events_cats['user'].value_counts()\n",
    "num_users = len(user_dist)\n",
    "print('Mean items per user: ' + str(user_dist.mean()))\n",
    "print('Min items per user: ' + str(user_dist.min()))\n",
    "print('Max items per user: ' + str(user_dist.max()))"
   ]
  },
  {
   "cell_type": "code",
   "execution_count": 242,
   "metadata": {
    "pycharm": {
     "name": "#%%\n"
    }
   },
   "outputs": [
    {
     "name": "stdout",
     "output_type": "stream",
     "text": [
      "No. items: 131188\n"
     ]
    }
   ],
   "source": [
    "# get item distribution\n",
    "item_dist = df_events_cats[predict_col].value_counts()\n",
    "num_items = len(item_dist)\n",
    "print('No. items: ' + str(num_items))"
   ]
  },
  {
   "cell_type": "code",
   "execution_count": 243,
   "metadata": {
    "pycharm": {
     "name": "#%%\n"
    }
   },
   "outputs": [
    {
     "data": {
      "text/plain": [
       "135       1389\n",
       "1602      1359\n",
       "46        1325\n",
       "320       1297\n",
       "27        1290\n",
       "          ... \n",
       "270452       1\n",
       "270477       1\n",
       "270313       1\n",
       "270496       1\n",
       "328694       1\n",
       "Name: item, Length: 131188, dtype: int64"
      ]
     },
     "execution_count": 243,
     "metadata": {},
     "output_type": "execute_result"
    }
   ],
   "source": [
    "item_dist"
   ]
  },
  {
   "cell_type": "code",
   "execution_count": 244,
   "metadata": {
    "pycharm": {
     "name": "#%%\n"
    }
   },
   "outputs": [
    {
     "data": {
      "image/png": "[encoded data removed]",
      "text/plain": [
       "<Figure size 432x288 with 1 Axes>"
      ]
     },
     "metadata": {
      "needs_background": "light"
     },
     "output_type": "display_data"
    }
   ],
   "source": [
    "# plot item distribution\n",
    "plt.figure()\n",
    "plt.plot(item_dist.values)\n",
    "plt.xlabel('Items (log)', fontsize='14')\n",
    "plt.xticks(fontsize='13')\n",
    "plt.yticks(fontsize='13')\n",
    "plt.ylabel('Number of users (log)', fontsize='15')\n",
    "plt.xscale('log')\n",
    "plt.yscale('log')\n",
    "# plt.savefig(dataset + '/graphs/item_dist.png', dpi=300, bbox_inches='tight')"
   ]
  },
  {
   "cell_type": "code",
   "execution_count": 245,
   "metadata": {
    "pycharm": {
     "name": "#%%\n"
    }
   },
   "outputs": [
    {
     "name": "stdout",
     "output_type": "stream",
     "text": [
      "No. top items: 26237\n"
     ]
    }
   ],
   "source": [
    "# get top items\n",
    "num_top = int(top_fraction * num_items)\n",
    "top_item_dist = item_dist[:num_top]\n",
    "print('No. top items: ' + str(len(top_item_dist)))"
   ]
  },
  {
   "cell_type": "code",
   "execution_count": 246,
   "metadata": {
    "pycharm": {
     "name": "#%%\n"
    }
   },
   "outputs": [
    {
     "name": "stdout",
     "output_type": "stream",
     "text": [
      "No. of users: 3000\n"
     ]
    }
   ],
   "source": [
    "# read users\n",
    "low_users = pd.read_csv(low_user_file, sep=',').set_index('user')\n",
    "medium_users = pd.read_csv(medium_user_file, sep=',').set_index('user')\n",
    "high_users = pd.read_csv(high_user_file, sep=',').set_index('user')\n",
    "no_users = len(low_users) + len(medium_users) + len(high_users)\n",
    "print('No. of users: ' + str(no_users))"
   ]
  },
  {
   "cell_type": "code",
   "execution_count": 247,
   "metadata": {
    "pycharm": {
     "name": "#%%\n"
    }
   },
   "outputs": [
    {
     "data": {
      "text/plain": [
       "Text(0.5, 1.0, 'LFM')"
      ]
     },
     "execution_count": 247,
     "metadata": {},
     "output_type": "execute_result"
    },
    {
     "data": {
      "image/png": "[encoded data removed]",
      "text/plain": [
       "<Figure size 720x360 with 1 Axes>"
      ]
     },
     "metadata": {
      "needs_background": "light"
     },
     "output_type": "display_data"
    }
   ],
   "source": [
    "df_cats = pd.read_csv(cats_file, sep=',')\n",
    "#df_cats.set_index('index', inplace=True)\n",
    "df_cats.columns = ['name', 'cats']\n",
    "\n",
    "df_test = df_events_cats.copy()\n",
    "df_test.drop(['item', 'preference'], axis=1, inplace=True)\n",
    "df_test[\"cats\"] = df_test[\"cats\"].str.split(\"|\")\n",
    "df_test = df_test.explode(\"cats\").reset_index(drop=True)\n",
    "df_test = df_test.groupby('cats').count().reset_index()#.set_index('cats')\n",
    "\n",
    "df_test['cats'] = df_test['cats'].astype(int)\n",
    "df_cats['cats'] = df_cats['cats'].astype(int)\n",
    "df_test = df_test.merge(df_cats, on='cats')\n",
    "#df_test['name'] = df_cats['cat']\n",
    "df_test.set_index('cats', inplace=True)\n",
    "#print(df_test)\n",
    "df_test.columns = ['count', 'category']\n",
    "df_test['count'] /= (df_test['count'].sum() / 100)\n",
    "#df_test.plot.bar(x='category', y='count')\n",
    "df_test_T = df_test.set_index('category').T\n",
    "#df_test_T.plot.bar(width=1.5, align='center')\n",
    "height = df_test['count'].to_list()\n",
    "x = [x for x in range(len(df_test_T.columns))]\n",
    "\n",
    "plt.figure(figsize=(10,5))\n",
    "for i in range(len(x)):\n",
    "    plt.bar(x=x[i], height=height[i], width=.75, label=df_test_T.columns[i])\n",
    "#plt.legend(bbox_to_anchor=(1.02, 1), loc=2, borderaxespad=0., framealpha=1, fontsize='15')\n",
    "plt.ylabel(\"Total %\")\n",
    "plt.xticks([x for x in range(len(df_test_T.columns))], labels=df_test_T.columns, rotation=90)\n",
    "plt.title({'anime':'MAL', 'book':'BookCrossing', 'movie':'ML', 'music':'LFM', 'yahoo':'Yahoo! Movies'}[dataset])\n",
    "# plt.savefig(dataset + '/graphs/genres.png', dpi=300, bbox_inches='tight')"
   ]
  },
  {
   "cell_type": "code",
   "execution_count": 248,
   "metadata": {
    "pycharm": {
     "name": "#%%\n"
    }
   },
   "outputs": [
    {
     "data": {
      "image/png": "[encoded data removed]",
      "text/plain": [
       "<Figure size 432x216 with 1 Axes>"
      ]
     },
     "metadata": {
      "needs_background": "light"
     },
     "output_type": "display_data"
    },
    {
     "name": "stdout",
     "output_type": "stream",
     "text": [
      "1266832\n",
      "1961456\n",
      "1540289\n"
     ]
    }
   ],
   "source": [
    "# Get dataset\n",
    "df_item_pop = df_events_cats.copy()\n",
    "# Remove unnecessary columns\n",
    "df_item_pop.drop(['item', 'preference'], axis=1, inplace=True)\n",
    "# Split cat column and count their occurrence\n",
    "df_item_pop[\"cats\"] = df_item_pop[\"cats\"].str.split(\"|\")\n",
    "df_item_pop = df_item_pop.explode(\"cats\").reset_index(drop=True)\n",
    "\n",
    "df_item_pop_cats = df_item_pop.groupby('cats').count().reset_index()\n",
    "df_item_pop_cats.columns = ['cats', 'Total']\n",
    "groups = ['LowPop', 'MedPop', 'HighPop']\n",
    "for i in range(len(groups)):\n",
    "    df_item_pop_group = df_item_pop.loc[df_item_pop['user'].isin([low_users, medium_users, high_users][i].index)]\n",
    "    df_item_pop_cats[groups[i]] = df_item_pop_group.groupby('cats').count().reset_index()['user']\n",
    "\n",
    "# Make sure column types are the same (needed for merge)\n",
    "df_item_pop_cats['cats'] = df_item_pop_cats['cats'].astype(int)\n",
    "df_cats['cats'] = df_cats['cats'].astype(int)\n",
    "# Merge to get category names (str)\n",
    "df_item_pop_cats = df_item_pop_cats.merge(df_cats, on='cats')\n",
    "# Set cats column as index\n",
    "df_item_pop_cats.set_index('cats', inplace=True)\n",
    "df_item_pop_cats = df_item_pop_cats.sort_values('Total',ignore_index=True, ascending=False)\n",
    "\n",
    "if dataset == 'anime':\n",
    "    df_item_pop_cats = df_item_pop_cats.drop(range(20, 36)).reset_index(drop=True)\n",
    "    df_item_pop_cats = df_item_pop_cats.drop(range(21, 28)).reset_index(drop=True)\n",
    "    df_item_pop_cats = df_item_pop_cats.drop(range(7, 8)).reset_index(drop=True)\n",
    "df_item_pop_cats.plot.line(y=groups, x='name', figsize=(6, 3), legend=True)\n",
    "#df_item_pop_cats.plot.line(y='Total', x='name', figsize=(6, 3), legend=True)\n",
    "labels = [label.capitalize() for label in list(df_item_pop_cats['name'])]\n",
    "\n",
    "plt.title({'anime':'MAL', 'book':'BookCrossing', 'movie':'ML', 'music':'LFM', 'yahoo':'Yahoo! Movies'}[dataset])\n",
    "plt.xticks(ticks=range(len(labels)), labels=labels, rotation=90)\n",
    "plt.ylabel(\"#Ratings\")\n",
    "plt.xlabel(\"\")\n",
    "plt.savefig(dataset+'/'+dataset+'_item_pop.pdf', dpi=300, bbox_inches='tight')\n",
    "plt.show()\n",
    "\n",
    "for i in range(len(groups)):\n",
    "    print(df_item_pop_cats[groups[i]].sum())"
   ]
  },
  {
   "cell_type": "code",
   "execution_count": 249,
   "metadata": {
    "pycharm": {
     "name": "#%%\n"
    }
   },
   "outputs": [
    {
     "data": {
      "image/png": "[encoded data removed]",
      "text/plain": [
       "<Figure size 432x216 with 1 Axes>"
      ]
     },
     "metadata": {
      "needs_background": "light"
     },
     "output_type": "display_data"
    }
   ],
   "source": [
    "# Get dataset\n",
    "df_item_pop = df_events_cats.copy()\n",
    "# Remove unnecessary columns\n",
    "df_item_pop.drop(['item', 'preference'], axis=1, inplace=True)\n",
    "# Split cat column and count their occurrence\n",
    "df_item_pop[\"cats\"] = df_item_pop[\"cats\"].str.split(\"|\")\n",
    "df_item_pop = df_item_pop.explode(\"cats\").reset_index(drop=True)\n",
    "\n",
    "df_item_pop_cats = df_item_pop.groupby('cats').count().reset_index()\n",
    "df_item_pop_cats.columns = ['cats', 'Total']\n",
    "groups = ['LowPop', 'MedPop', 'HighPop']\n",
    "\n",
    "sum_col = 'Sum'\n",
    "df_item_pop_cats[sum_col] = 0\n",
    "for i in range(len(groups)):\n",
    "    df_item_pop_group = df_item_pop.loc[df_item_pop['user'].isin([low_users, medium_users, high_users][i].index)]\n",
    "    df_item_pop_group = df_item_pop_group.drop_duplicates(subset=['user', 'cats'])\n",
    "    #df_item_pop_cats[sum_col] += df_item_pop_group.groupby('cats').count().reset_index()['user']\n",
    "    df_item_pop_cats[groups[i]] = df_item_pop_group.groupby('cats').count().reset_index()['user']\n",
    "\n",
    "# Make sure column types are the same (needed for merge)\n",
    "df_item_pop_cats['cats'] = df_item_pop_cats['cats'].astype(int)\n",
    "df_cats['cats'] = df_cats['cats'].astype(int)\n",
    "# Merge to get category names (str)\n",
    "df_item_pop_cats = df_item_pop_cats.merge(df_cats, on='cats')\n",
    "# Set cats column as index\n",
    "df_item_pop_cats.set_index('cats', inplace=True)\n",
    "\n",
    "df_item_pop_cats = df_item_pop_cats.sort_values('Total',ignore_index=True, ascending=False)\n",
    "#df_item_pop_cats = df_item_pop_cats.sort_values(sum_col,ignore_index=True, ascending=False)\n",
    "\n",
    "if dataset == 'anime':\n",
    "    df_item_pop_cats = df_item_pop_cats.drop(range(20, 36)).reset_index(drop=True)\n",
    "    df_item_pop_cats = df_item_pop_cats.drop(range(21, 28)).reset_index(drop=True)\n",
    "    df_item_pop_cats = df_item_pop_cats.drop(range(7, 8)).reset_index(drop=True)\n",
    "df_item_pop_cats.plot.line(y=groups, x='name', figsize=(6, 3), legend=True)\n",
    "#df_item_pop_cats.plot.line(y=sum_col, x='name', figsize=(6, 3), legend=False)\n",
    "labels = [label.capitalize() for label in list(df_item_pop_cats['name'])]\n",
    "\n",
    "plt.title({'anime':'MAL', 'book':'BookCrossing', 'movie':'ML', 'music':'LFM', 'yahoo':'Yahoo! Movies'}[dataset])\n",
    "plt.xticks(ticks=range(len(labels)), labels=labels, rotation=90)\n",
    "plt.ylabel(\"#Users\")\n",
    "plt.xlabel(\"\")\n",
    "plt.savefig(dataset+'/'+dataset+'_user_genres.pdf', dpi=300, bbox_inches='tight')\n",
    "plt.show()"
   ]
  },
  {
   "cell_type": "code",
   "execution_count": 12,
   "metadata": {
    "pycharm": {
     "name": "#%%\n"
    }
   },
   "outputs": [
    {
     "name": "stdout",
     "output_type": "stream",
     "text": [
      "Low count (for check): 1000\n",
      "Med count (for check): 1000\n",
      "High count (for check): 1000\n"
     ]
    }
   ],
   "source": [
    "# get pop fractions\n",
    "pop_count = [] # number of top items per user\n",
    "user_hist = [] # user history sizes\n",
    "pop_fraq = [] # relative number of top items per user\n",
    "pop_item_fraq = [] # average popularity of items in user profiles\n",
    "low_profile_size = 0\n",
    "low_gap = 0\n",
    "medium_profile_size = 0\n",
    "medium_gap = 0\n",
    "high_profile_size = 0\n",
    "high_gap = 0\n",
    "low_count = 0\n",
    "med_count = 0\n",
    "high_count = 0\n",
    "df_gap_p = pd.DataFrame(columns=['user', 'gap_p'])\n",
    "df_gap_p_items = pd.DataFrame(columns=['user', 'item', 'gap_p'])\n",
    "for u, df in df_events_cats.groupby('user'):\n",
    "    no_user_items = len(set(df[predict_col])) # profile size\n",
    "    no_user_pop_items = len(set(df[predict_col]) & set(top_item_dist.index)) # top items in profile\n",
    "    pop_count.append(no_user_pop_items)\n",
    "    user_hist.append(no_user_items)\n",
    "    pop_fraq.append(no_user_pop_items / no_user_items)\n",
    "    # get popularity (= fraction of users interacted with item) of user items and calculate average of it\n",
    "    user_pop_item_fraq = sum(item_dist[df[predict_col]] / no_users) / no_user_items\n",
    "    pop_item_fraq.append(user_pop_item_fraq)\n",
    "    df_gap_p = pd.concat([df_gap_p, pd.DataFrame.from_dict({'user': [u], 'gap_p': [user_pop_item_fraq]})], ignore_index=True)\n",
    "\n",
    "    item_list = list(df[predict_col])\n",
    "    df_gap_p_items = pd.concat([df_gap_p_items, pd.DataFrame.from_dict({'user': [u for _ in item_list], 'item': item_list, 'gap_p': [user_pop_item_fraq for _ in item_list]})], ignore_index=True)\n",
    "    if u in low_users.index: # get user group-specific values\n",
    "        low_profile_size += no_user_items\n",
    "        low_gap += user_pop_item_fraq\n",
    "        low_count += 1\n",
    "    elif u in medium_users.index:\n",
    "        medium_profile_size += no_user_items\n",
    "        medium_gap += user_pop_item_fraq\n",
    "        med_count += 1\n",
    "    else:\n",
    "        high_profile_size += no_user_items\n",
    "        high_gap += user_pop_item_fraq\n",
    "        high_count += 1\n",
    "low_profile_size /= len(low_users)\n",
    "medium_profile_size /= len(medium_users)\n",
    "high_profile_size /= len(high_users)\n",
    "low_gap /= len(low_users)\n",
    "medium_gap /= len(medium_users)\n",
    "high_gap /= len(high_users)\n",
    "print('Low count (for check): ' + str(low_count))\n",
    "print('Med count (for check): ' + str(med_count))\n",
    "print('High count (for check): ' + str(high_count))"
   ]
  },
  {
   "cell_type": "code",
   "execution_count": 13,
   "metadata": {
    "pycharm": {
     "name": "#%%\n"
    }
   },
   "outputs": [
    {
     "name": "stdout",
     "output_type": "stream",
     "text": [
      "Average LowMS profile size: 369.729\n",
      "Average MedMS profile size: 194.374\n",
      "Average HighMS profile size: 111.507\n"
     ]
    }
   ],
   "source": [
    "print('Average LowMS profile size: ' + str(low_profile_size))\n",
    "print('Average MedMS profile size: ' + str(medium_profile_size))\n",
    "print('Average HighMS profile size: ' + str(high_profile_size))"
   ]
  },
  {
   "cell_type": "markdown",
   "metadata": {
    "pycharm": {
     "name": "#%% md\n"
    }
   },
   "source": [
    "## Recommendations using Surprise package\n"
   ]
  },
  {
   "cell_type": "code",
   "execution_count": 14,
   "metadata": {
    "pycharm": {
     "name": "#%%\n"
    },
    "scrolled": true
   },
   "outputs": [
    {
     "name": "stdout",
     "output_type": "stream",
     "text": [
      "Min rating: 1\n",
      "Max rating: 5\n"
     ]
    }
   ],
   "source": [
    "#df_events = scaled_df_events\n",
    "print('Min rating: ' + str(df_events_cats['preference'].min()))\n",
    "print('Max rating: ' + str(df_events_cats['preference'].max()))"
   ]
  },
  {
   "cell_type": "code",
   "execution_count": 15,
   "metadata": {
    "pycharm": {
     "name": "#%%\n"
    }
   },
   "outputs": [],
   "source": [
    "reader = Reader(rating_scale=(df_events_cats['preference'].min(), df_events_cats['preference'].max()))"
   ]
  },
  {
   "cell_type": "code",
   "execution_count": 22,
   "metadata": {
    "pycharm": {
     "name": "#%%\n"
    }
   },
   "outputs": [],
   "source": [
    "data = Dataset.load_from_df(df_events_cats[df_events_cats.columns[:-1]], reader)\n",
    "kf = KFold(n_splits=folds, random_state=my_seed)"
   ]
  },
  {
   "cell_type": "code",
   "execution_count": 23,
   "metadata": {
    "pycharm": {
     "name": "#%%\n"
    }
   },
   "outputs": [],
   "source": [
    "def get_top_n(predictions, n=10):\n",
    "    # First map the predictions to each user.\n",
    "    top_n = defaultdict(list)\n",
    "    for uid, iid, true_r, est, _ in predictions:\n",
    "        top_n[uid].append((iid, est))\n",
    "    # Then sort the predictions for each user and retrieve the k highest ones.\n",
    "    for uid, user_ratings in top_n.items():\n",
    "        user_ratings.sort(key=lambda x: x[1], reverse=True)\n",
    "        top_n[uid] = user_ratings[:n]\n",
    "    return top_n"
   ]
  },
  {
   "cell_type": "code",
   "execution_count": 24,
   "metadata": {
    "pycharm": {
     "name": "#%%\n"
    }
   },
   "outputs": [],
   "source": [
    "def get_top_n_random(testset, n=10):\n",
    "    top_n = defaultdict(list)\n",
    "    for uid, iid, true_r in testset:\n",
    "        if len(top_n[uid]) == 0:\n",
    "            for i in range(0, 10):\n",
    "                top_n[uid].append((rd.choice(item_dist.index), i))\n",
    "    return top_n"
   ]
  },
  {
   "cell_type": "code",
   "execution_count": 25,
   "metadata": {
    "pycharm": {
     "name": "#%%\n"
    }
   },
   "outputs": [],
   "source": [
    "def get_top_n_mp(testset, n=10):\n",
    "    top_n = defaultdict(list)\n",
    "    for uid, iid, true_r in testset:\n",
    "        if len(top_n[uid]) == 0:\n",
    "            for iid, count in item_dist[:n].items():\n",
    "                top_n[uid].append((iid, count))\n",
    "    return top_n"
   ]
  },
  {
   "cell_type": "code",
   "execution_count": 26,
   "metadata": {
    "pycharm": {
     "name": "#%%\n"
    }
   },
   "outputs": [],
   "source": [
    "def get_mae_of_groups(predictions):\n",
    "    low_predictions = []\n",
    "    med_predictions = []\n",
    "    high_predictions = []\n",
    "    dict_maes = {'user': [], 'item': [], 'mae': []}\n",
    "    for uid, iid, true_r, est, details in predictions:\n",
    "        prediction = [(uid, iid, true_r, est, details)]\n",
    "        dict_maes['user'].append(uid)\n",
    "        dict_maes['item'].append(iid)\n",
    "        dict_maes['mae'].append(accuracy.mae(prediction, verbose=False))\n",
    "\n",
    "        if uid in low_users.index:\n",
    "            low_predictions.append(accuracy.mae(prediction, verbose=False))\n",
    "        elif uid in medium_users.index:\n",
    "            med_predictions.append(accuracy.mae(prediction, verbose=False))\n",
    "        elif uid in high_users.index:\n",
    "            high_predictions.append(accuracy.mae(prediction, verbose=False))\n",
    "\n",
    "    return pd.DataFrame.from_dict(dict_maes), [low_predictions, med_predictions, high_predictions]"
   ]
  },
  {
   "cell_type": "code",
   "execution_count": 27,
   "metadata": {
    "pycharm": {
     "name": "#%%\n"
    }
   },
   "outputs": [],
   "source": [
    "# create item dataframe with normalized item counts\n",
    "df_item_dist = pd.DataFrame(item_dist)\n",
    "df_item_dist.columns = ['count']\n",
    "df_item_dist['count'] /= no_users"
   ]
  },
  {
   "cell_type": "code",
   "execution_count": 28,
   "metadata": {
    "pycharm": {
     "name": "#%%\n"
    },
    "scrolled": true
   },
   "outputs": [],
   "source": [
    "sim_users = {'name': 'cosine', 'user_based': True}  # compute cosine similarities between users\n",
    "algos = [BaselineOnly(),\n",
    "         KNNBasic(sim_options=sim_users),\n",
    "         KNNWithMeans(sim_options=sim_users),\n",
    "         NMF(n_factors=30, random_state=my_seed),\n",
    "         CoClustering(n_cltr_u=3, n_cltr_i=3, random_state=my_seed)]\n",
    "algo_names = ['UserItemAvg',\n",
    "              'UserKNN',\n",
    "              'UserKNNAvg',\n",
    "              'NMF',\n",
    "              'Co-Custering']"
   ]
  },
  {
   "cell_type": "code",
   "execution_count": 29,
   "metadata": {
    "pycharm": {
     "name": "#%%\n"
    }
   },
   "outputs": [
    {
     "name": "stdout",
     "output_type": "stream",
     "text": [
      "UserItemAvg\n",
      "Estimating biases using als...\n",
      "Ttest_indResult(statistic=9.29831750718438, pvalue=1.4512285208499107e-20)\n",
      "Ttest_indResult(statistic=10.397772090310957, pvalue=2.617664244072576e-25)\n",
      "1000 1000 1000\n",
      "Estimating biases using als...\n",
      "Ttest_indResult(statistic=6.698082688364753, pvalue=2.121575244746611e-11)\n",
      "Ttest_indResult(statistic=9.58144618748186, pvalue=9.786038353860444e-22)\n",
      "1000 1000 1000\n",
      "Estimating biases using als...\n",
      "Ttest_indResult(statistic=7.268559144882001, pvalue=3.6567910838813915e-13)\n",
      "Ttest_indResult(statistic=11.261306555591945, pvalue=2.1255054622300312e-29)\n",
      "1000 1000 1000\n",
      "Estimating biases using als...\n",
      "Ttest_indResult(statistic=7.121772640341094, pvalue=1.0718145331508528e-12)\n",
      "Ttest_indResult(statistic=12.694256325915129, pvalue=6.811825020755431e-37)\n",
      "1000 1000 1000\n",
      "Estimating biases using als...\n",
      "Ttest_indResult(statistic=7.741992078136949, pvalue=9.867819378402004e-15)\n",
      "Ttest_indResult(statistic=11.751535395151874, pvalue=7.291137207123429e-32)\n",
      "1000 1000 1000\n",
      "0.7206747753269009\n",
      "LowMS: 0.7361554374827101\n",
      "MedMS: 0.709518744602354\n",
      "HighMS: 0.6887963556091042\n",
      "UserKNN\n",
      "Computing the cosine similarity matrix...\n",
      "Done computing similarity matrix.\n",
      "Ttest_indResult(statistic=15.209081393492719, pvalue=3.468821241917632e-52)\n",
      "Ttest_indResult(statistic=17.117808793245725, pvalue=1.3678827355393168e-65)\n",
      "1000 1000 1000\n",
      "Computing the cosine similarity matrix...\n",
      "Done computing similarity matrix.\n",
      "Ttest_indResult(statistic=13.656422075363071, pvalue=1.998067625820747e-42)\n",
      "Ttest_indResult(statistic=17.243737568045027, pvalue=1.5710094598591306e-66)\n",
      "1000 1000 1000\n",
      "Computing the cosine similarity matrix...\n",
      "Done computing similarity matrix.\n",
      "Ttest_indResult(statistic=13.554314678856374, pvalue=8.056360751557044e-42)\n",
      "Ttest_indResult(statistic=18.031640575880235, pvalue=1.4494462581179015e-72)\n",
      "1000 1000 1000\n",
      "Computing the cosine similarity matrix...\n",
      "Done computing similarity matrix.\n",
      "Ttest_indResult(statistic=13.845610472081988, pvalue=1.4682838590966485e-43)\n",
      "Ttest_indResult(statistic=19.44351992437833, pvalue=4.796154335863254e-84)\n",
      "1000 1000 1000\n",
      "Computing the cosine similarity matrix...\n",
      "Done computing similarity matrix.\n",
      "Ttest_indResult(statistic=12.571811805921824, pvalue=3.190882814058558e-36)\n",
      "Ttest_indResult(statistic=18.837715775661408, pvalue=5.142648400270161e-79)\n",
      "1000 1000 1000\n",
      "0.7721926503975641\n",
      "LowMS: 0.8012280395314153\n",
      "MedMS: 0.7486607972887502\n",
      "HighMS: 0.7169504732457544\n",
      "UserKNNAvg\n",
      "Computing the cosine similarity matrix...\n",
      "Done computing similarity matrix.\n",
      "Ttest_indResult(statistic=11.411169740315588, pvalue=3.820392667413948e-30)\n",
      "Ttest_indResult(statistic=13.654162785795137, pvalue=2.0887167799596148e-42)\n",
      "1000 1000 1000\n",
      "Computing the cosine similarity matrix...\n",
      "Done computing similarity matrix.\n",
      "Ttest_indResult(statistic=9.87031310596259, pvalue=5.720378957646551e-23)\n",
      "Ttest_indResult(statistic=13.960407048009518, pvalue=3.003564749963159e-44)\n",
      "1000 1000 1000\n",
      "Computing the cosine similarity matrix...\n",
      "Done computing similarity matrix.\n",
      "Ttest_indResult(statistic=9.598049448843984, pvalue=8.305008965485455e-22)\n",
      "Ttest_indResult(statistic=15.42764238266021, pvalue=1.2376003099892065e-53)\n",
      "1000 1000 1000\n",
      "Computing the cosine similarity matrix...\n",
      "Done computing similarity matrix.\n",
      "Ttest_indResult(statistic=9.926856684665005, pvalue=3.251934392941014e-23)\n",
      "Ttest_indResult(statistic=16.68653686850066, pvalue=2.010306420868498e-62)\n",
      "1000 1000 1000\n",
      "Computing the cosine similarity matrix...\n",
      "Done computing similarity matrix.\n",
      "Ttest_indResult(statistic=10.19252628630367, pvalue=2.1940040415928412e-24)\n",
      "Ttest_indResult(statistic=15.158042536980323, pvalue=7.694710789695585e-52)\n",
      "1000 1000 1000\n",
      "0.7424441319789996\n",
      "LowMS: 0.7636399025164581\n",
      "MedMS: 0.727364211845557\n",
      "HighMS: 0.6984578165147428\n",
      "NMF\n",
      "Ttest_indResult(statistic=9.686902897360543, pvalue=3.496596432357744e-22)\n",
      "Ttest_indResult(statistic=11.502936670510962, pvalue=1.3352378418244453e-30)\n",
      "1000 1000 1000\n",
      "Ttest_indResult(statistic=6.333648718518646, pvalue=2.4032791000560734e-10)\n",
      "Ttest_indResult(statistic=8.593581504557283, pvalue=8.553537775031365e-18)\n",
      "1000 1000 1000\n",
      "Ttest_indResult(statistic=7.137337385265798, pvalue=9.572576239815647e-13)\n",
      "Ttest_indResult(statistic=10.596717535162151, pvalue=3.190906540805123e-26)\n",
      "1000 1000 1000\n",
      "Ttest_indResult(statistic=6.776813296773035, pvalue=1.2345663100467718e-11)\n",
      "Ttest_indResult(statistic=11.518760255054545, pvalue=1.1115865438309432e-30)\n",
      "1000 1000 1000\n",
      "Ttest_indResult(statistic=7.861896964407829, pvalue=3.8167483777084536e-15)\n",
      "Ttest_indResult(statistic=11.222809072611186, pvalue=3.2853343952008847e-29)\n",
      "1000 1000 1000\n",
      "0.7335270717300457\n",
      "LowMS: 0.7499914827007006\n",
      "MedMS: 0.7211936377025613\n",
      "HighMS: 0.7004347874646618\n",
      "Co-Custering\n"
     ]
    },
    {
     "name": "stderr",
     "output_type": "stream",
     "text": [
      "C:\\Users\\prism\\AppData\\Local\\Temp\\ipykernel_34584\\3570483800.py:21: DeprecationWarning: `np.int` is a deprecated alias for the builtin `int`. To silence this warning, use `int` by itself. Doing this will not modify any behavior and is safe. When replacing `np.int`, you may wish to use e.g. `np.int64` or `np.int32` to specify the precision. If you wish to review your current use, check the release note link for additional information.\n",
      "Deprecated in NumPy 1.20; for more details and guidance: https://numpy.org/devdocs/release/1.20.0-notes.html#deprecations\n",
      "  algos[i].fit(trainset)\n"
     ]
    },
    {
     "name": "stdout",
     "output_type": "stream",
     "text": [
      "Ttest_indResult(statistic=10.7339337021499, pvalue=7.266947923047532e-27)\n",
      "Ttest_indResult(statistic=11.485467102279951, pvalue=1.634159093098136e-30)\n",
      "1000 1000 1000\n"
     ]
    },
    {
     "name": "stderr",
     "output_type": "stream",
     "text": [
      "C:\\Users\\prism\\AppData\\Local\\Temp\\ipykernel_34584\\3570483800.py:21: DeprecationWarning: `np.int` is a deprecated alias for the builtin `int`. To silence this warning, use `int` by itself. Doing this will not modify any behavior and is safe. When replacing `np.int`, you may wish to use e.g. `np.int64` or `np.int32` to specify the precision. If you wish to review your current use, check the release note link for additional information.\n",
      "Deprecated in NumPy 1.20; for more details and guidance: https://numpy.org/devdocs/release/1.20.0-notes.html#deprecations\n",
      "  algos[i].fit(trainset)\n"
     ]
    },
    {
     "name": "stdout",
     "output_type": "stream",
     "text": [
      "Ttest_indResult(statistic=9.390502947654397, pvalue=6.0775622421068486e-21)\n",
      "Ttest_indResult(statistic=11.06195511054986, pvalue=1.9960492944482498e-28)\n",
      "1000 1000 1000\n"
     ]
    },
    {
     "name": "stderr",
     "output_type": "stream",
     "text": [
      "C:\\Users\\prism\\AppData\\Local\\Temp\\ipykernel_34584\\3570483800.py:21: DeprecationWarning: `np.int` is a deprecated alias for the builtin `int`. To silence this warning, use `int` by itself. Doing this will not modify any behavior and is safe. When replacing `np.int`, you may wish to use e.g. `np.int64` or `np.int32` to specify the precision. If you wish to review your current use, check the release note link for additional information.\n",
      "Deprecated in NumPy 1.20; for more details and guidance: https://numpy.org/devdocs/release/1.20.0-notes.html#deprecations\n",
      "  algos[i].fit(trainset)\n"
     ]
    },
    {
     "name": "stdout",
     "output_type": "stream",
     "text": [
      "Ttest_indResult(statistic=9.140166512921743, pvalue=6.335035163072358e-20)\n",
      "Ttest_indResult(statistic=12.62593368449125, pvalue=1.624334782377103e-36)\n",
      "1000 1000 1000\n"
     ]
    },
    {
     "name": "stderr",
     "output_type": "stream",
     "text": [
      "C:\\Users\\prism\\AppData\\Local\\Temp\\ipykernel_34584\\3570483800.py:21: DeprecationWarning: `np.int` is a deprecated alias for the builtin `int`. To silence this warning, use `int` by itself. Doing this will not modify any behavior and is safe. When replacing `np.int`, you may wish to use e.g. `np.int64` or `np.int32` to specify the precision. If you wish to review your current use, check the release note link for additional information.\n",
      "Deprecated in NumPy 1.20; for more details and guidance: https://numpy.org/devdocs/release/1.20.0-notes.html#deprecations\n",
      "  algos[i].fit(trainset)\n"
     ]
    },
    {
     "name": "stdout",
     "output_type": "stream",
     "text": [
      "Ttest_indResult(statistic=9.385692742755644, pvalue=6.361406889839511e-21)\n",
      "Ttest_indResult(statistic=14.199744701170298, pvalue=1.022679662329626e-45)\n",
      "1000 1000 1000\n"
     ]
    },
    {
     "name": "stderr",
     "output_type": "stream",
     "text": [
      "C:\\Users\\prism\\AppData\\Local\\Temp\\ipykernel_34584\\3570483800.py:21: DeprecationWarning: `np.int` is a deprecated alias for the builtin `int`. To silence this warning, use `int` by itself. Doing this will not modify any behavior and is safe. When replacing `np.int`, you may wish to use e.g. `np.int64` or `np.int32` to specify the precision. If you wish to review your current use, check the release note link for additional information.\n",
      "Deprecated in NumPy 1.20; for more details and guidance: https://numpy.org/devdocs/release/1.20.0-notes.html#deprecations\n",
      "  algos[i].fit(trainset)\n"
     ]
    },
    {
     "name": "stdout",
     "output_type": "stream",
     "text": [
      "Ttest_indResult(statistic=9.577833228327819, pvalue=1.0100521049235177e-21)\n",
      "Ttest_indResult(statistic=13.06867353817003, pvalue=5.3674545800910735e-39)\n",
      "1000 1000 1000\n",
      "0.7193499444489544\n",
      "LowMS: 0.7382782203903349\n",
      "MedMS: 0.7038129420342206\n",
      "HighMS: 0.6836782024518914\n"
     ]
    }
   ],
   "source": [
    "q = [{} for _ in range(folds)]\n",
    "maes = {}\n",
    "maes_user = {}\n",
    "low_rec_gap_list = [] # one entry per algorithm\n",
    "medium_rec_gap_list = []\n",
    "high_rec_gap_list = []\n",
    "gaps_q = {}\n",
    "for i in range(0, len(algo_names)):\n",
    "    print(algo_names[i])\n",
    "\n",
    "    df_item_dist[algo_names[i]] = 0\n",
    "    low_rec_gaps = [0 for _ in range(folds)]\n",
    "    medium_rec_gaps = [0 for _ in range(folds)]\n",
    "    high_rec_gaps = [0 for _ in range(folds)]\n",
    "\n",
    "    fold = 0\n",
    "    mae_list = []\n",
    "    predictions_maes = [0 for _ in range(3)]\n",
    "    for trainset, testset in kf.split(data):\n",
    "        # get accuracy for personalized approaches\n",
    "        algos[i].fit(trainset)\n",
    "        predictions = algos[i].test(testset, verbose=False)\n",
    "        mae_list.append(accuracy.mae(predictions, verbose=False))\n",
    "        df_mae, predictions_mae = get_mae_of_groups(predictions)\n",
    "        if algo_names[i] not in maes:\n",
    "            maes[algo_names[i]] = df_mae\n",
    "            maes[algo_names[i]]['mae'] /= folds\n",
    "        else:\n",
    "            maes[algo_names[i]]['mae'] += df_mae['mae'] / folds\n",
    "\n",
    "        predictions_maes = [predictions_maes[i] + np.mean(predictions_mae[i])/folds for i in range(3)]\n",
    "        print(stats.ttest_ind(predictions_mae[0], predictions_mae[1]))\n",
    "        print(stats.ttest_ind(predictions_mae[0], predictions_mae[2]))\n",
    "\n",
    "        top_n = get_top_n(predictions, n=10)\n",
    "        q[fold][algo_names[i]] = top_n.items()\n",
    "\n",
    "        low_count = 0\n",
    "        med_count = 0\n",
    "        high_count = 0\n",
    "        dict_gap_q = {'user':[], 'gap_q':[]}\n",
    "        for uid, user_ratings in top_n.items():\n",
    "            iid_list = []\n",
    "            for (iid, _) in user_ratings:\n",
    "                df_item_dist.loc[iid, algo_names[i]] += 1\n",
    "                iid_list.append(iid)\n",
    "            gap = sum(item_dist[iid_list] / no_users) / len(iid_list)\n",
    "            dict_gap_q['user'].append(uid)\n",
    "            dict_gap_q['gap_q'].append(gap / folds)\n",
    "            if uid in low_users.index:\n",
    "                low_rec_gaps[fold] += gap\n",
    "                low_count += 1\n",
    "            elif uid in medium_users.index:\n",
    "                medium_rec_gaps[fold] += gap\n",
    "                med_count += 1\n",
    "            elif uid in high_users.index:\n",
    "                high_rec_gaps[fold] += gap\n",
    "                high_count += 1\n",
    "\n",
    "        if algo_names[i] not in gaps_q:\n",
    "            gaps_q[algo_names[i]] = pd.DataFrame.from_dict(dict_gap_q)\n",
    "        else:\n",
    "            gaps_q[algo_names[i]]['gap_q'] += pd.DataFrame.from_dict(dict_gap_q)['gap_q']\n",
    "        low_rec_gaps[fold] /= low_count\n",
    "        medium_rec_gaps[fold] /= med_count\n",
    "        high_rec_gaps[fold] /= high_count\n",
    "        # check, if all users are used\n",
    "        print(low_count, med_count, high_count)\n",
    "        fold += 1\n",
    "\n",
    "    low_rec_gap_list.append(np.mean(low_rec_gaps))\n",
    "    medium_rec_gap_list.append(np.mean(medium_rec_gaps))\n",
    "    high_rec_gap_list.append(np.mean(high_rec_gaps))\n",
    "\n",
    "    maes_user[algo_names[i]] = maes[algo_names[i]].drop(['item'], axis=1)\n",
    "\n",
    "    print(np.mean(mae_list))\n",
    "    print('LowMS: ' + str(predictions_maes[0]))\n",
    "    print('MedMS: ' + str(predictions_maes[1]))\n",
    "    print('HighMS: ' + str(predictions_maes[2]))\n",
    "\n",
    "    i += 1 # next algorithm"
   ]
  },
  {
   "cell_type": "code",
   "execution_count": null,
   "metadata": {
    "pycharm": {
     "name": "#%%\n"
    }
   },
   "outputs": [],
   "source": [
    "d_predictions = [{} for _ in range(folds)]\n",
    "for fold in range(folds):\n",
    "    for i in range(len(algo_names)):\n",
    "        df_a = pd.DataFrame(q[fold][algo_names[i]], columns=['user', 'item_ratings'])\n",
    "        df_a = df_a.explode('item_ratings')\n",
    "        df_a[['item', 'rank']] = pd.DataFrame(df_a['item_ratings'].tolist(), index=df_a.index)\n",
    "        df_a.drop('item_ratings', axis=1, inplace=True)\n",
    "        df_a.sort_values('rank', ascending=False, inplace=True)\n",
    "        d_predictions[fold][algo_names[i]] = df_a\n",
    "\n",
    "d_predictions[0][algo_names[2]].head()"
   ]
  },
  {
   "cell_type": "code",
   "execution_count": null,
   "metadata": {
    "pycharm": {
     "name": "#%%\n"
    }
   },
   "outputs": [],
   "source": [
    "low_pl_vals = []\n",
    "medium_pl_vals = []\n",
    "high_pl_vals = []\n",
    "pls = {}\n",
    "pls_items = {}\n",
    "for i in range(0, len(algos)):\n",
    "    print(algo_names[i])\n",
    "    pl_low = (low_rec_gap_list[i] - low_gap) / low_gap\n",
    "    pl_med = (medium_rec_gap_list[i] - medium_gap) / medium_gap\n",
    "    pl_high = (high_rec_gap_list[i] - high_gap) / high_gap\n",
    "    print('LowMS:', pl_low)\n",
    "    print('MedMS:', pl_med)\n",
    "    print('HighMS:', pl_high)\n",
    "\n",
    "    low_pl_vals.append(pl_low)# * 100)\n",
    "    medium_pl_vals.append(pl_med)# * 100)\n",
    "    high_pl_vals.append(pl_high)# * 100)\n",
    "\n",
    "    df_gap = gaps_q[algo_names[i]].merge(df_gap_p, on=['user'])\n",
    "    df_gap['pl'] = (df_gap['gap_q'] - df_gap['gap_p']) / df_gap['gap_p']\n",
    "    pls[algo_names[i]] = df_gap[['user', 'pl']]\n",
    "\n",
    "    df_gap_items = df_gap_p_items.merge(gaps_q[algo_names[i]], on=['user'])\n",
    "    df_gap_items['pl'] = (df_gap_items['gap_q'] - df_gap_items['gap_p']) / df_gap_items['gap_p']\n",
    "    pls_items[algo_names[i]] = df_gap_items[['user', 'item', 'pl']]\n",
    "\n",
    "    print(stats.ttest_ind(df_gap_items.loc[df_gap_items['user'].isin(low_users.index)]['pl'], df_gap_items.loc[df_gap_items['user'].isin(medium_users.index)]['pl']))\n",
    "    print(stats.ttest_ind(df_gap_items.loc[df_gap_items['user'].isin(low_users.index)]['pl'], df_gap_items.loc[df_gap_items['user'].isin(high_users.index)]['pl']))\n",
    "    print('----------------------')\n"
   ]
  },
  {
   "cell_type": "markdown",
   "metadata": {
    "pycharm": {
     "is_executing": true,
     "name": "#%% md\n"
    }
   },
   "source": [
    "## Miscalibration Metric"
   ]
  },
  {
   "cell_type": "code",
   "execution_count": null,
   "metadata": {
    "pycharm": {
     "name": "#%%\n"
    }
   },
   "outputs": [],
   "source": [
    "def calc_pcu(df_events_):\n",
    "    cols_pcu = ['user', 'cat', 'metric']\n",
    "    # Remove artists with no genres\n",
    "    df_events = df_events_.copy()\n",
    "\n",
    "    cols_weights = ['user', 'sum']\n",
    "    s_weights_sum = df_events.groupby('user')['preference'].sum().reset_index()#.to_frame().reset_index()\n",
    "    s_weights_sum.columns = cols_weights\n",
    "\n",
    "    df_events[\"cats\"] = df_events[\"cats\"].str.split(\"|\")\n",
    "    df_events_split = df_events.explode(\"cats\").reset_index(drop=True)\n",
    "    df_events_split[\"count\"] = df_events_split.groupby(['user','item'])[\"cats\"].transform('count')\n",
    "\n",
    "    df_events_split[\"wipci\"] = df_events_split[\"preference\"] / df_events_split[\"count\"]\n",
    "\n",
    "    df_dist = df_events_split.groupby(['user', 'cats'])['wipci'].sum().to_frame().reset_index()\n",
    "\n",
    "    df_msc = df_dist.merge(s_weights_sum, on=['user'])\n",
    "    df_msc[['wipci']] = df_msc[['wipci']].div(df_msc['sum'], axis=0)\n",
    "    df_msc.drop('sum', axis=1, inplace=True)\n",
    "    df_msc.columns = cols_pcu\n",
    "    return df_msc"
   ]
  },
  {
   "cell_type": "code",
   "execution_count": null,
   "metadata": {
    "pycharm": {
     "name": "#%%\n"
    }
   },
   "outputs": [],
   "source": [
    "df_pcu = calc_pcu(df_events_cats)\n",
    "df_pcu.head()"
   ]
  },
  {
   "cell_type": "code",
   "execution_count": null,
   "metadata": {
    "pycharm": {
     "name": "#%%\n"
    }
   },
   "outputs": [],
   "source": [
    "def calc_qcu(df_predictions_, df_item_cats_, algo_name):\n",
    "    # drop rows in ignore list\n",
    "    # group by user id and artist\n",
    "    df_predictions = df_predictions_.copy()\n",
    "    df_item_cats = df_item_cats_.copy()\n",
    "    df_predictions['user'] = df_predictions['user'].astype(int)\n",
    "    if dataset == 'book':\n",
    "        df_item_cats['item'] = df_item_cats['item'].astype(str)\n",
    "    else:\n",
    "        df_predictions['item'] = df_predictions['item'].astype(int)\n",
    "    df_item_cats['cats'] = df_item_cats['cats'].astype(str)\n",
    "\n",
    "    df_predictions['rank'] = df_predictions['rank'].astype(float)\n",
    "    # calc mean if item is recommended multiple times\n",
    "    df_predictions = df_predictions.groupby(['user', 'item'])['rank'].mean().reset_index(name='preference')\n",
    "    # Calculate sum of weights\n",
    "    s_weights_sum = df_predictions.groupby('user')['preference'].sum().reset_index()\n",
    "    s_weights_sum.columns = cols_weights\n",
    "    # Split user_predictions genres into rows\n",
    "    df_predictions = df_predictions.merge(df_item_cats,on='item', how='left')#.reset_index()\n",
    "    df_predictions['cats'] = df_predictions['cats'].astype(str)\n",
    "    df_predictions[\"cats\"] = df_predictions[\"cats\"].str.split(\"|\")\n",
    "    df_predictions = df_predictions.explode(\"cats\").reset_index(drop=True)\n",
    "    df_predictions[\"count\"] = df_predictions.groupby(['user','item'])[\"cats\"].transform('count')\n",
    "    # calculate weighted p(c|i)\n",
    "    # wi * pci, wi -> preference(rank), pci -> 1/count\n",
    "    df_predictions[\"wipci\"] = df_predictions[\"preference\"] / df_predictions[\"count\"]\n",
    "    # Sum up genres\n",
    "    df_dist = df_predictions.groupby(['user', 'cats'])['wipci'].sum().to_frame().reset_index()\n",
    "    # Divide by sum of weights\n",
    "    df_dist = df_dist.merge(s_weights_sum, on=['user'])\n",
    "    df_dist['wipci'] /= df_dist['sum']\n",
    "    df_dist.drop('sum', axis=1, inplace=True)\n",
    "    df_dist.columns = cols_msc\n",
    "    df_dist = df_dist[df_dist.astype(str)['cat'] != 'nan']\n",
    "    return df_dist"
   ]
  },
  {
   "cell_type": "code",
   "execution_count": null,
   "metadata": {
    "pycharm": {
     "name": "#%%\n"
    }
   },
   "outputs": [],
   "source": [
    "df_item_cats = df_events_cats.copy()\n",
    "df_item_cats.drop(['user', 'preference'], axis=1, inplace=True)\n",
    "df_item_cats.drop_duplicates(inplace=True)\n",
    "df_item_cats"
   ]
  },
  {
   "cell_type": "code",
   "execution_count": null,
   "metadata": {
    "pycharm": {
     "name": "#%% calculate 𝑞(𝑐|𝑢)\n"
    }
   },
   "outputs": [],
   "source": [
    "df_qcu = [{} for _ in range(folds)]\n",
    "cols_weights = ['user', 'sum']\n",
    "cols_msc = ['user', 'cat', 'metric']\n",
    "for fold in range(folds):\n",
    "    for i in range(0, len(algo_names)):\n",
    "        df_msc = calc_qcu(d_predictions[fold][algo_names[i]], df_item_cats, algo_names[i])\n",
    "        df_qcu[fold][algo_names[i]] = df_msc"
   ]
  },
  {
   "cell_type": "code",
   "execution_count": null,
   "metadata": {
    "pycharm": {
     "name": "#%% calculate 𝑞˜(𝑐|𝑢) = (1 − 𝛼) · 𝑞(𝑐|𝑢) + 𝛼 · 𝑝(𝑐|𝑢), 𝛼 = 0.01\n"
    }
   },
   "outputs": [],
   "source": [
    "alpha = .01\n",
    "\n",
    "# 𝛼 · 𝑝(𝑐|𝑢)\n",
    "df_pcu_a = df_pcu.copy()\n",
    "df_pcu_a.loc[:,'metric'] *= alpha\n",
    "df_pcu_a['user']=df_pcu_a['user'].astype(int)\n",
    "df_pcu_a['cat']=df_pcu_a['cat'].astype(int)\n",
    "\n",
    "df_pcu_a"
   ]
  },
  {
   "cell_type": "code",
   "execution_count": null,
   "metadata": {
    "pycharm": {
     "name": "#%%\n"
    }
   },
   "outputs": [],
   "source": [
    "df_pcu_a.loc[df_pcu_a['user'] == 3]['metric'].sum()"
   ]
  },
  {
   "cell_type": "code",
   "execution_count": null,
   "metadata": {
    "pycharm": {
     "name": "#%%\n"
    }
   },
   "outputs": [],
   "source": [
    "def calc_MCkl(df_qcu_, df_pcu_a, df_pcu):\n",
    "    cols_q_head = ['user', 'cat']\n",
    "\n",
    "    # (1 − 𝛼) · 𝑞(𝑐|𝑢)\n",
    "    df_qcu = df_qcu_.copy()\n",
    "    df_qcu.loc[:,'metric'] *= (1 - alpha)\n",
    "    df_qcu['user'] = df_qcu['user'].astype(int)\n",
    "    df_qcu['cat'] = df_qcu['cat'].astype(int)\n",
    "\n",
    "    # 𝑞˜(𝑐|𝑢) allmusic\n",
    "    df_q_head = df_pcu_a.join(df_qcu.set_index(cols_q_head), on=cols_q_head, lsuffix='_left', rsuffix='_right').fillna(0)\n",
    "    df_q_head['q_head'] = df_q_head['metric_left'] + df_q_head['metric_right']\n",
    "    df_pcu['cat'] = df_pcu['cat'].astype(int)\n",
    "    df_q_head = df_q_head.join(df_pcu.set_index(cols_q_head), on=cols_q_head)\n",
    "\n",
    "    # calculate MC_kl allmusic\n",
    "    df_q_head['mc'] = df_q_head['metric'] * np.log(df_q_head['metric']/ df_q_head['q_head'])\n",
    "\n",
    "    l_cat_mc = []\n",
    "    for group in [low_users, medium_users, high_users]:\n",
    "        l_cat_mc.append(df_q_head.loc[df_q_head['user'].isin(group.index)].drop('user', axis=1).groupby('cat')['mc'].mean())\n",
    "\n",
    "    df_MC_kl = df_q_head.groupby('user')['mc'].sum().reset_index()\n",
    "    return df_MC_kl, l_cat_mc\n"
   ]
  },
  {
   "cell_type": "code",
   "execution_count": null,
   "metadata": {
    "pycharm": {
     "name": "#%%\n"
    }
   },
   "outputs": [],
   "source": [
    "cols_q_head = ['user', 'cat']\n",
    "MC_kl_d = {}\n",
    "MC_cat_d = {}\n",
    "df_metrics = pd.DataFrame()\n",
    "df_metrics_low = pd.DataFrame()\n",
    "df_metrics_med = pd.DataFrame()\n",
    "df_metrics_high = pd.DataFrame()\n",
    "# for each algo (Random, KNN, ...)\n",
    "for i in range(0, len(algo_names)):\n",
    "    print(algo_names[i])\n",
    "    print('--------------------------------------')\n",
    "\n",
    "    l_cat_mcs = [0 for _ in range(3000)]\n",
    "    MC_kl = None\n",
    "    for fold in range(folds):\n",
    "        df_mc, list_cat_mc = calc_MCkl(df_qcu[fold][algo_names[i]], df_pcu_a, df_pcu)\n",
    "        if MC_kl is None:\n",
    "            MC_kl = df_mc\n",
    "            MC_kl['mc'] /= folds\n",
    "        else:\n",
    "            MC_kl['mc'] += df_mc['mc'] / folds\n",
    "        l_cat_mcs = [l_cat_mcs[i] + list_cat_mc[i]/folds for i in range(len(list_cat_mc))]\n",
    "\n",
    "    print(MC_kl.head())\n",
    "    print('--------------------------------------')\n",
    "    print('Avg Total', MC_kl['mc'].mean())\n",
    "    print('Avg Low', MC_kl.loc[MC_kl['user'].isin(low_users.index)]['mc'].mean())\n",
    "    print('Avg Med', MC_kl.loc[MC_kl['user'].isin(medium_users.index)]['mc'].mean())\n",
    "    print('Avg High', MC_kl.loc[MC_kl['user'].isin(high_users.index)]['mc'].mean())\n",
    "    print('95%', stats.t.interval(alpha=0.95, df=len(MC_kl['mc'].tolist())-1, loc=np.mean(MC_kl['mc'].tolist()), scale=stats.sem(MC_kl['mc'].tolist())))\n",
    "\n",
    "    MC_kl_d[algo_names[i]] = MC_kl\n",
    "    df_metrics[algo_names[i]] = MC_kl['mc']\n",
    "    MC_cat_d[algo_names[i]] = l_cat_mcs\n",
    "\n",
    "    df_metrics_low[algo_names[i]] = MC_kl.loc[MC_kl['user'].isin(low_users.index)]['mc']\n",
    "    df_metrics_med[algo_names[i]] = MC_kl.loc[MC_kl['user'].isin(medium_users.index)]['mc']\n",
    "    df_metrics_high[algo_names[i]] = MC_kl.loc[MC_kl['user'].isin(high_users.index)]['mc']\n",
    "\n",
    "    print(stats.ttest_ind(MC_kl.loc[MC_kl['user'].isin(low_users.index)]['mc'], MC_kl.loc[MC_kl['user'].isin(medium_users.index)]['mc']))\n",
    "    print(stats.ttest_ind(MC_kl.loc[MC_kl['user'].isin(low_users.index)]['mc'], MC_kl.loc[MC_kl['user'].isin(high_users.index)]['mc']))\n",
    "\n",
    "    print('======================================\\n')"
   ]
  },
  {
   "cell_type": "code",
   "execution_count": null,
   "metadata": {
    "pycharm": {
     "name": "#%%\n"
    }
   },
   "outputs": [],
   "source": [
    "users = pd.concat([low_users, medium_users, high_users])\n",
    "for i in range(len(algo_names)):\n",
    "    maes_user[algo_names[i]].loc[maes_user[algo_names[i]]['user'].isin(users.index)].groupby('user')['mae'].mean().reset_index().merge(pls[algo_names[i]].loc[pls[algo_names[i]]['user'].isin(users.index)], on='user').merge(MC_kl_d[algo_names[i]].loc[MC_kl_d[algo_names[i]]['user'].isin(users.index)], on='user').to_csv(dataset + '/results/' + algo_names[i] + '.csv', sep=';')"
   ]
  },
  {
   "cell_type": "markdown",
   "metadata": {
    "pycharm": {
     "name": "#%% md\n"
    }
   },
   "source": [
    "## Genre miscalibration sorted by count"
   ]
  },
  {
   "cell_type": "markdown",
   "metadata": {
    "pycharm": {
     "name": "#%% md\n"
    }
   },
   "source": [
    "Only a few genres are responsible for the high miscalibration value of certain groups. This is due to user profiles having an unproportionate amount of pertaining to these genres. We therefore will also not see any or only a weak correlation with the popularity lift metric, as those (popular) genres may not be the same as the ones creating a high miscalibration."
   ]
  },
  {
   "cell_type": "code",
   "execution_count": null,
   "metadata": {
    "pycharm": {
     "name": "#%%\n"
    }
   },
   "outputs": [],
   "source": [
    "nmf = 3"
   ]
  },
  {
   "cell_type": "code",
   "execution_count": null,
   "metadata": {
    "pycharm": {
     "name": "#%%\n"
    }
   },
   "outputs": [],
   "source": [
    "# durch reset_index nicht die selben index wie die gemergde tabelle, deshalb probleme\n",
    "df_6 = df_test.copy(deep=True)#.sort_values('count',ignore_index=True, ascending=False).drop(range(20, 44)).reset_index(drop=True)\n",
    "groups = ['LowPop', 'MedPop', 'HighPop']\n",
    "for i in range(len(groups)):\n",
    "    df_6[groups[i]] = MC_cat_d[algo_names[nmf]][i].to_frame()['mc']\n",
    "df_6 = df_6.sort_values('count',ignore_index=True, ascending=False)\n",
    "if dataset == 'anime':\n",
    "    df_6 = df_6.drop(range(20, 36)).reset_index(drop=True)\n",
    "    df_6 = df_6.drop(range(21, 28)).reset_index(drop=True)\n",
    "    df_6 = df_6.drop(range(7, 8)).reset_index(drop=True)\n",
    "df_6.plot.line(y=groups, x='category', figsize=(6, 3), legend=True)\n",
    "labels = list(df_6['category'])\n",
    "\n",
    "plt.title({'anime':'MAL', 'book':'BookCrossing', 'movie':'ML', 'music':'LFM', 'yahoo':'Yahoo! Movies'}[dataset])\n",
    "plt.xticks(ticks=range(len(labels)), labels=labels, rotation=90)\n",
    "# if type == 'music':\n",
    "plt.ylabel(\"Miscalibration\")\n",
    "plt.xlabel(\"\")\n",
    "plt.savefig('output/' + dataset + '_genre_mc_count_' + algo_names[nmf] + '.pdf', dpi=300, bbox_inches='tight')\n",
    "plt.show()"
   ]
  },
  {
   "cell_type": "markdown",
   "metadata": {
    "pycharm": {
     "name": "#%% md\n"
    }
   },
   "source": [
    "## Genre MAE sorted by count"
   ]
  },
  {
   "cell_type": "code",
   "execution_count": null,
   "metadata": {
    "pycharm": {
     "name": "#%%\n"
    }
   },
   "outputs": [],
   "source": [
    "df_7 = df_test.copy(deep=True)\n",
    "groups = ['LowPop', 'MedPop', 'HighPop']\n",
    "for i in range(len(groups)):\n",
    "    df_mae_item = maes[algo_names[nmf]]\n",
    "    df_mae_item = df_mae_item.loc[df_mae_item['user'].isin([low_users, medium_users, high_users][i].index)].drop(['user'], axis=1)\n",
    "    df_mae_item['item'] = df_mae_item['item'].astype(int)\n",
    "    df_mae_item = df_mae_item.merge(df_item_cats,on='item', how='left')\n",
    "    df_mae_item[\"cats\"] = df_mae_item[\"cats\"].str.split(\"|\")\n",
    "    df_7[groups[i]] = df_mae_item.explode(\"cats\").reset_index(drop=True).drop(['item'], axis=1).groupby('cats')['mae'].mean().reset_index()['mae']\n",
    "\n",
    "df_7 = df_7.sort_values('count',ignore_index=True, ascending=False)\n",
    "if dataset == 'anime':\n",
    "    df_7 = df_7.drop(range(20, 36)).reset_index(drop=True)\n",
    "    df_7 = df_7.drop(range(21, 28)).reset_index(drop=True)\n",
    "df_7.plot.line(y=groups, x='category', figsize=(6, 3))\n",
    "labels = list(df_7['category'])\n",
    "\n",
    "plt.title({'anime':'MAL', 'book':'BookCrossing', 'movie':'ML', 'music':'LFM', 'yahoo':'Yahoo! Movies'}[dataset])\n",
    "plt.xticks(ticks=range(len(labels)), labels=labels, rotation=90)\n",
    "plt.ylabel(\"MAE\")\n",
    "plt.xlabel(\"\")\n",
    "# plt.savefig('output/' + dataset + '_genre_mae_count_' + algo_names[nmf] + '.pdf', dpi=300, bbox_inches='tight')\n",
    "plt.show()"
   ]
  },
  {
   "cell_type": "markdown",
   "metadata": {
    "pycharm": {
     "name": "#%% md\n"
    }
   },
   "source": [
    "## Genre popularity lift sorted by count"
   ]
  },
  {
   "cell_type": "code",
   "execution_count": null,
   "metadata": {
    "pycharm": {
     "name": "#%%\n"
    }
   },
   "outputs": [],
   "source": [
    "df_8 = df_test.copy(deep=True)\n",
    "groups = ['LowPop', 'MedPop', 'HighPop']\n",
    "for i in range(len(groups)):\n",
    "    df_pl_items = pls_items[algo_names[nmf]]\n",
    "    df_pl_items = df_pl_items.loc[df_pl_items['user'].isin([low_users, medium_users, high_users][i].index)].drop(['user'], axis=1)\n",
    "    df_pl_items['item'] = df_pl_items['item'].astype(int)\n",
    "    df_pl_items = df_pl_items.merge(df_item_cats,on='item', how='left')\n",
    "    df_pl_items[\"cats\"] = df_pl_items[\"cats\"].str.split(\"|\")\n",
    "    df_8[groups[i]]  = df_pl_items.explode(\"cats\").reset_index(drop=True).drop(['item'], axis=1).groupby('cats')['pl'].mean().reset_index()['pl']\n",
    "\n",
    "df_8 = df_8.sort_values('count',ignore_index=True, ascending=False)\n",
    "if dataset == 'anime':\n",
    "    df_8 = df_8.drop(range(20, 36)).reset_index(drop=True)\n",
    "    df_8 = df_8.drop(range(21, 28)).reset_index(drop=True)\n",
    "    df_8 = df_8.drop(range(7, 8)).reset_index(drop=True)\n",
    "df_8.plot.line(y=groups, x='category', figsize=(6, 3), legend=False)\n",
    "labels = list(df_8['category'])\n",
    "\n",
    "plt.title({'anime':'MAL', 'book':'BookCrossing', 'movie':'ML', 'music':'LFM', 'yahoo':'Yahoo! Movies'}[dataset])\n",
    "plt.xticks(ticks=range(len(labels)), labels=labels, rotation=90)\n",
    "# if type == 'music':\n",
    "plt.ylabel(\"Popularity Lift\")\n",
    "plt.xlabel(\"\")\n",
    "# plt.savefig('output/' + dataset + '_genre_pl_count_' + algo_names[nmf] + '.pdf', dpi=300, bbox_inches='tight')\n",
    "plt.show()"
   ]
  },
  {
   "cell_type": "markdown",
   "metadata": {
    "pycharm": {
     "name": "#%% md\n"
    }
   },
   "source": []
  },
  {
   "cell_type": "code",
   "execution_count": null,
   "metadata": {
    "pycharm": {
     "name": "#%%\n"
    }
   },
   "outputs": [],
   "source": []
  }
 ],
 "metadata": {
  "kernelspec": {
   "display_name": "Python 3",
   "language": "python",
   "name": "python3"
  },
  "language_info": {
   "codemirror_mode": {
    "name": "ipython",
    "version": 3
   },
   "file_extension": ".py",
   "mimetype": "text/x-python",
   "name": "python",
   "nbconvert_exporter": "python",
   "pygments_lexer": "ipython3",
   "version": "3.8.8"
  }
 },
 "nbformat": 4,
 "nbformat_minor": 2
}
