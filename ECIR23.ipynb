{
 "cells": [
  {
   "cell_type": "code",
   "execution_count": 1,
   "metadata": {
    "pycharm": {
     "name": "#%%\n"
    }
   },
   "outputs": [],
   "source": [
    "# imports\n",
    "import sys\n",
    "import random as rd\n",
    "import pandas as pd\n",
    "import numpy as np\n",
    "import matplotlib.pyplot as plt\n",
    "from itertools import cycle, islice\n",
    "from sklearn.preprocessing import MinMaxScaler\n",
    "from sklearn.metrics import ndcg_score\n",
    "from collections import defaultdict\n",
    "from scipy import stats\n",
    "from surprise import AlgoBase\n",
    "from surprise import BaselineOnly\n",
    "from surprise import KNNBasic\n",
    "from surprise import KNNWithMeans\n",
    "from surprise import NMF\n",
    "from surprise import Dataset\n",
    "from surprise import Reader\n",
    "from surprise import accuracy\n",
    "from surprise import CoClustering\n",
    "from surprise.model_selection import train_test_split, KFold"
   ]
  },
  {
   "cell_type": "code",
   "execution_count": 2,
   "metadata": {
    "pycharm": {
     "name": "#%%\n"
    }
   },
   "outputs": [],
   "source": [
    "# constants and initialization\n",
    "dataset = 'lfm' # ml, anime\n",
    "item_threshold = 1 # 1 means no filtering\n",
    "my_seed = 0\n",
    "rd.seed(my_seed)\n",
    "np.random.seed(my_seed)\n",
    "predict_col = 'item'\n",
    "top_fraction = 0.2\n",
    "folds = 5\n",
    "user_events_cats_file = dataset + '/user_events_cats.txt'\n",
    "low_user_file = dataset + '/low_main_users.txt'\n",
    "medium_user_file = dataset + '/medium_main_users.txt'\n",
    "high_user_file = dataset + '/high_main_users.txt'\n",
    "\n",
    "save_metrics = False\n",
    "\n",
    "cats_file = dataset + '/categories.txt'"
   ]
  },
  {
   "cell_type": "code",
   "execution_count": 3,
   "outputs": [
    {
     "data": {
      "text/plain": "             user     item  preference            cats\n0         1021445       57  123.148472      3|16|15|18\n1         1021445      113    1.000000       2|16|18|3\n2         1021445      137  101.336245        2|3|16|0\n3         1021445      142    9.724891           0|3|2\n4         1021445      179    5.362445  16|1|3|18|15|0\n...           ...      ...         ...             ...\n1417786  50071075   543672   61.775665              12\n1417787  50071075    28392   23.790875         13|12|3\n1417788  50071075   201181    8.596958           12|15\n1417789  50071075  2902578    4.798479             5|3\n1417790  50071075   328694    4.798479            12|2\n\n[1417791 rows x 4 columns]",
      "text/html": "<div>\n<style scoped>\n    .dataframe tbody tr th:only-of-type {\n        vertical-align: middle;\n    }\n\n    .dataframe tbody tr th {\n        vertical-align: top;\n    }\n\n    .dataframe thead th {\n        text-align: right;\n    }\n</style>\n<table border=\"1\" class=\"dataframe\">\n  <thead>\n    <tr style=\"text-align: right;\">\n      <th></th>\n      <th>user</th>\n      <th>item</th>\n      <th>preference</th>\n      <th>cats</th>\n    </tr>\n  </thead>\n  <tbody>\n    <tr>\n      <th>0</th>\n      <td>1021445</td>\n      <td>57</td>\n      <td>123.148472</td>\n      <td>3|16|15|18</td>\n    </tr>\n    <tr>\n      <th>1</th>\n      <td>1021445</td>\n      <td>113</td>\n      <td>1.000000</td>\n      <td>2|16|18|3</td>\n    </tr>\n    <tr>\n      <th>2</th>\n      <td>1021445</td>\n      <td>137</td>\n      <td>101.336245</td>\n      <td>2|3|16|0</td>\n    </tr>\n    <tr>\n      <th>3</th>\n      <td>1021445</td>\n      <td>142</td>\n      <td>9.724891</td>\n      <td>0|3|2</td>\n    </tr>\n    <tr>\n      <th>4</th>\n      <td>1021445</td>\n      <td>179</td>\n      <td>5.362445</td>\n      <td>16|1|3|18|15|0</td>\n    </tr>\n    <tr>\n      <th>...</th>\n      <td>...</td>\n      <td>...</td>\n      <td>...</td>\n      <td>...</td>\n    </tr>\n    <tr>\n      <th>1417786</th>\n      <td>50071075</td>\n      <td>543672</td>\n      <td>61.775665</td>\n      <td>12</td>\n    </tr>\n    <tr>\n      <th>1417787</th>\n      <td>50071075</td>\n      <td>28392</td>\n      <td>23.790875</td>\n      <td>13|12|3</td>\n    </tr>\n    <tr>\n      <th>1417788</th>\n      <td>50071075</td>\n      <td>201181</td>\n      <td>8.596958</td>\n      <td>12|15</td>\n    </tr>\n    <tr>\n      <th>1417789</th>\n      <td>50071075</td>\n      <td>2902578</td>\n      <td>4.798479</td>\n      <td>5|3</td>\n    </tr>\n    <tr>\n      <th>1417790</th>\n      <td>50071075</td>\n      <td>328694</td>\n      <td>4.798479</td>\n      <td>12|2</td>\n    </tr>\n  </tbody>\n</table>\n<p>1417791 rows × 4 columns</p>\n</div>"
     },
     "execution_count": 3,
     "metadata": {},
     "output_type": "execute_result"
    }
   ],
   "source": [
    "cols_cats = ['user', 'item', 'preference', 'cats']\n",
    "df_events_cats = pd.read_csv(user_events_cats_file, sep=',').dropna()\n",
    "df_events_cats.columns = cols_cats\n",
    "df_events_cats['cats'] = df_events_cats['cats'].astype(str)\n",
    "df_events_cats"
   ],
   "metadata": {
    "collapsed": false,
    "pycharm": {
     "name": "#%%\n"
    }
   }
  },
  {
   "cell_type": "code",
   "execution_count": 4,
   "outputs": [
    {
     "name": "stdout",
     "output_type": "stream",
     "text": [
      "No. filtered user events: 1417791\n",
      "No. filtered items: 131188\n",
      "No. filtered users: 3000\n"
     ]
    }
   ],
   "source": [
    "df_events_cats = df_events_cats[df_events_cats['preference'] >= item_threshold]\n",
    "print('No. filtered user events: ' + str(len(df_events_cats)))\n",
    "print('No. filtered items: ' + str(len(df_events_cats[predict_col].unique())))\n",
    "print('No. filtered users: ' + str(len(df_events_cats['user'].unique())))"
   ],
   "metadata": {
    "collapsed": false,
    "pycharm": {
     "name": "#%%\n"
    }
   }
  },
  {
   "cell_type": "code",
   "execution_count": 5,
   "outputs": [
    {
     "name": "stdout",
     "output_type": "stream",
     "text": [
      "Mean items per user: 472.597\n",
      "Min items per user: 13\n",
      "Max items per user: 2901\n"
     ]
    }
   ],
   "source": [
    "# get user distribution\n",
    "user_dist = df_events_cats['user'].value_counts()\n",
    "num_users = len(user_dist)\n",
    "print('Mean items per user: ' + str(user_dist.mean()))\n",
    "print('Min items per user: ' + str(user_dist.min()))\n",
    "print('Max items per user: ' + str(user_dist.max()))"
   ],
   "metadata": {
    "collapsed": false,
    "pycharm": {
     "name": "#%%\n"
    }
   }
  },
  {
   "cell_type": "code",
   "execution_count": 6,
   "metadata": {
    "pycharm": {
     "name": "#%%\n"
    }
   },
   "outputs": [
    {
     "name": "stdout",
     "output_type": "stream",
     "text": [
      "No. items: 131188\n"
     ]
    }
   ],
   "source": [
    "# get item distribution\n",
    "item_dist = df_events_cats[predict_col].value_counts()\n",
    "num_items = len(item_dist)\n",
    "print('No. items: ' + str(num_items))"
   ]
  },
  {
   "cell_type": "code",
   "execution_count": 7,
   "metadata": {
    "pycharm": {
     "name": "#%%\n"
    }
   },
   "outputs": [
    {
     "data": {
      "text/plain": "135       1389\n1602      1359\n46        1325\n320       1297\n27        1290\n          ... \n270452       1\n270477       1\n270313       1\n270496       1\n328694       1\nName: item, Length: 131188, dtype: int64"
     },
     "execution_count": 7,
     "metadata": {},
     "output_type": "execute_result"
    }
   ],
   "source": [
    "item_dist"
   ]
  },
  {
   "cell_type": "code",
   "execution_count": 8,
   "metadata": {
    "pycharm": {
     "name": "#%%\n"
    }
   },
   "outputs": [
    {
     "data": {
      "text/plain": "<Figure size 432x288 with 1 Axes>",
      "image/png": "[encoded data removed]"
     },
     "metadata": {
      "needs_background": "light"
     },
     "output_type": "display_data"
    }
   ],
   "source": [
    "# plot item distribution\n",
    "plt.figure()\n",
    "plt.plot(item_dist.values)\n",
    "plt.xlabel('Items (log)', fontsize='14')\n",
    "plt.xticks(fontsize='13')\n",
    "plt.yticks(fontsize='13')\n",
    "plt.ylabel('Number of users (log)', fontsize='15')\n",
    "plt.xscale('log')\n",
    "plt.yscale('log')\n",
    "# plt.savefig(dataset + '/graphs/item_dist.png', dpi=300, bbox_inches='tight')"
   ]
  },
  {
   "cell_type": "code",
   "execution_count": 9,
   "metadata": {
    "pycharm": {
     "name": "#%%\n"
    }
   },
   "outputs": [
    {
     "name": "stdout",
     "output_type": "stream",
     "text": [
      "No. top items: 26237\n"
     ]
    }
   ],
   "source": [
    "# get top items\n",
    "num_top = int(top_fraction * num_items)\n",
    "top_item_dist = item_dist[:num_top]\n",
    "print('No. top items: ' + str(len(top_item_dist)))"
   ]
  },
  {
   "cell_type": "code",
   "execution_count": 10,
   "metadata": {
    "pycharm": {
     "name": "#%%\n"
    }
   },
   "outputs": [
    {
     "name": "stdout",
     "output_type": "stream",
     "text": [
      "No. of users: 3000\n"
     ]
    }
   ],
   "source": [
    "# read users\n",
    "low_users = pd.read_csv(low_user_file, sep=',').set_index('user')\n",
    "medium_users = pd.read_csv(medium_user_file, sep=',').set_index('user')\n",
    "high_users = pd.read_csv(high_user_file, sep=',').set_index('user')\n",
    "no_users = len(low_users) + len(medium_users) + len(high_users)\n",
    "print('No. of users: ' + str(no_users))"
   ]
  },
  {
   "cell_type": "code",
   "execution_count": 11,
   "metadata": {
    "pycharm": {
     "name": "#%%\n"
    }
   },
   "outputs": [
    {
     "data": {
      "text/plain": "Text(0.5, 1.0, 'LFM')"
     },
     "execution_count": 11,
     "metadata": {},
     "output_type": "execute_result"
    },
    {
     "data": {
      "text/plain": "<Figure size 720x360 with 1 Axes>",
      "image/png": "[encoded data removed]"
     },
     "metadata": {
      "needs_background": "light"
     },
     "output_type": "display_data"
    }
   ],
   "source": [
    "df_cats = pd.read_csv(cats_file, sep=',')\n",
    "#df_cats.set_index('index', inplace=True)\n",
    "df_cats.columns = ['name', 'cats']\n",
    "\n",
    "df_test = df_events_cats.copy()\n",
    "df_test.drop(['item', 'preference'], axis=1, inplace=True)\n",
    "df_test[\"cats\"] = df_test[\"cats\"].str.split(\"|\")\n",
    "df_test = df_test.explode(\"cats\").reset_index(drop=True)\n",
    "df_test = df_test.groupby('cats').count().reset_index()#.set_index('cats')\n",
    "\n",
    "df_test['cats'] = df_test['cats'].astype(int)\n",
    "df_cats['cats'] = df_cats['cats'].astype(int)\n",
    "df_test = df_test.merge(df_cats, on='cats')\n",
    "#df_test['name'] = df_cats['cat']\n",
    "df_test.set_index('cats', inplace=True)\n",
    "#print(df_test)\n",
    "df_test.columns = ['count', 'category']\n",
    "df_test['count'] /= (df_test['count'].sum() / 100)\n",
    "#df_test.plot.bar(x='category', y='count')\n",
    "df_test_T = df_test.set_index('category').T\n",
    "#df_test_T.plot.bar(width=1.5, align='center')\n",
    "height = df_test['count'].to_list()\n",
    "x = [x for x in range(len(df_test_T.columns))]\n",
    "\n",
    "plt.figure(figsize=(10,5))\n",
    "for i in range(len(x)):\n",
    "    plt.bar(x=x[i], height=height[i], width=.75, label=df_test_T.columns[i])\n",
    "#plt.legend(bbox_to_anchor=(1.02, 1), loc=2, borderaxespad=0., framealpha=1, fontsize='15')\n",
    "plt.ylabel(\"Total %\")\n",
    "plt.xticks([x for x in range(len(df_test_T.columns))], labels=df_test_T.columns, rotation=90)\n",
    "plt.title({'anime':'MAL', 'book':'BookCrossing', 'movie':'ML', 'music':'LFM', 'yahoo':'Yahoo! Movies'}[dataset])\n",
    "# plt.savefig(dataset + '/graphs/genres.png', dpi=300, bbox_inches='tight')"
   ]
  },
  {
   "cell_type": "code",
   "execution_count": 12,
   "outputs": [
    {
     "data": {
      "text/plain": "<Figure size 432x216 with 1 Axes>",
      "image/png": "[encoded data removed]"
     },
     "metadata": {
      "needs_background": "light"
     },
     "output_type": "display_data"
    },
    {
     "name": "stdout",
     "output_type": "stream",
     "text": [
      "1266832\n",
      "1961456\n",
      "1540289\n"
     ]
    }
   ],
   "source": [
    "# Get dataset\n",
    "df_item_pop = df_events_cats.copy()\n",
    "# Remove unnecessary columns\n",
    "df_item_pop.drop(['item', 'preference'], axis=1, inplace=True)\n",
    "# Split cat column and count their occurrence\n",
    "df_item_pop[\"cats\"] = df_item_pop[\"cats\"].str.split(\"|\")\n",
    "df_item_pop = df_item_pop.explode(\"cats\").reset_index(drop=True)\n",
    "\n",
    "df_item_pop_cats = df_item_pop.groupby('cats').count().reset_index()\n",
    "df_item_pop_cats.columns = ['cats', 'Total']\n",
    "groups = ['LowPop', 'MedPop', 'HighPop']\n",
    "for i in range(len(groups)):\n",
    "    df_item_pop_group = df_item_pop.loc[df_item_pop['user'].isin([low_users, medium_users, high_users][i].index)]\n",
    "    df_item_pop_cats[groups[i]] = df_item_pop_group.groupby('cats').count().reset_index()['user']\n",
    "\n",
    "# Make sure column types are the same (needed for merge)\n",
    "df_item_pop_cats['cats'] = df_item_pop_cats['cats'].astype(int)\n",
    "df_cats['cats'] = df_cats['cats'].astype(int)\n",
    "# Merge to get category names (str)\n",
    "df_item_pop_cats = df_item_pop_cats.merge(df_cats, on='cats')\n",
    "# Set cats column as index\n",
    "df_item_pop_cats.set_index('cats', inplace=True)\n",
    "df_item_pop_cats = df_item_pop_cats.sort_values('Total',ignore_index=True, ascending=False)\n",
    "\n",
    "if dataset == 'anime':\n",
    "    df_item_pop_cats = df_item_pop_cats.drop(range(20, 36)).reset_index(drop=True)\n",
    "    df_item_pop_cats = df_item_pop_cats.drop(range(21, 28)).reset_index(drop=True)\n",
    "    df_item_pop_cats = df_item_pop_cats.drop(range(7, 8)).reset_index(drop=True)\n",
    "df_item_pop_cats.plot.line(y=groups, x='name', figsize=(6, 3), legend=True)\n",
    "#df_item_pop_cats.plot.line(y='Total', x='name', figsize=(6, 3), legend=True)\n",
    "labels = [label.capitalize() for label in list(df_item_pop_cats['name'])]\n",
    "\n",
    "plt.title({'anime':'MAL', 'book':'BookCrossing', 'movie':'ML', 'music':'LFM', 'yahoo':'Yahoo! Movies'}[dataset])\n",
    "plt.xticks(ticks=range(len(labels)), labels=labels, rotation=90)\n",
    "plt.ylabel(\"#Ratings\")\n",
    "plt.xlabel(\"\")\n",
    "plt.savefig(dataset+'/'+dataset+'_item_pop.pdf', dpi=300, bbox_inches='tight')\n",
    "plt.show()\n",
    "\n",
    "for i in range(len(groups)):\n",
    "    print(df_item_pop_cats[groups[i]].sum())"
   ],
   "metadata": {
    "collapsed": false,
    "pycharm": {
     "name": "#%%\n"
    }
   }
  },
  {
   "cell_type": "code",
   "execution_count": 13,
   "outputs": [
    {
     "data": {
      "text/plain": "<Figure size 432x216 with 1 Axes>",
      "image/png": "[encoded data removed]"
     },
     "metadata": {
      "needs_background": "light"
     },
     "output_type": "display_data"
    }
   ],
   "source": [
    "# Get dataset\n",
    "df_item_pop = df_events_cats.copy()\n",
    "# Remove unnecessary columns\n",
    "df_item_pop.drop(['item', 'preference'], axis=1, inplace=True)\n",
    "# Split cat column and count their occurrence\n",
    "df_item_pop[\"cats\"] = df_item_pop[\"cats\"].str.split(\"|\")\n",
    "df_item_pop = df_item_pop.explode(\"cats\").reset_index(drop=True)\n",
    "\n",
    "df_item_pop_cats = df_item_pop.groupby('cats').count().reset_index()\n",
    "df_item_pop_cats.columns = ['cats', 'Total']\n",
    "groups = ['LowPop', 'MedPop', 'HighPop']\n",
    "\n",
    "sum_col = 'Sum'\n",
    "df_item_pop_cats[sum_col] = 0\n",
    "for i in range(len(groups)):\n",
    "    df_item_pop_group = df_item_pop.loc[df_item_pop['user'].isin([low_users, medium_users, high_users][i].index)]\n",
    "    df_item_pop_group = df_item_pop_group.drop_duplicates(subset=['user', 'cats'])\n",
    "    #df_item_pop_cats[sum_col] += df_item_pop_group.groupby('cats').count().reset_index()['user']\n",
    "    df_item_pop_cats[groups[i]] = df_item_pop_group.groupby('cats').count().reset_index()['user']\n",
    "\n",
    "# Make sure column types are the same (needed for merge)\n",
    "df_item_pop_cats['cats'] = df_item_pop_cats['cats'].astype(int)\n",
    "df_cats['cats'] = df_cats['cats'].astype(int)\n",
    "# Merge to get category names (str)\n",
    "df_item_pop_cats = df_item_pop_cats.merge(df_cats, on='cats')\n",
    "# Set cats column as index\n",
    "df_item_pop_cats.set_index('cats', inplace=True)\n",
    "\n",
    "df_item_pop_cats = df_item_pop_cats.sort_values('Total',ignore_index=True, ascending=False)\n",
    "#df_item_pop_cats = df_item_pop_cats.sort_values(sum_col,ignore_index=True, ascending=False)\n",
    "\n",
    "if dataset == 'anime':\n",
    "    df_item_pop_cats = df_item_pop_cats.drop(range(20, 36)).reset_index(drop=True)\n",
    "    df_item_pop_cats = df_item_pop_cats.drop(range(21, 28)).reset_index(drop=True)\n",
    "    df_item_pop_cats = df_item_pop_cats.drop(range(7, 8)).reset_index(drop=True)\n",
    "df_item_pop_cats.plot.line(y=groups, x='name', figsize=(6, 3), legend=True)\n",
    "#df_item_pop_cats.plot.line(y=sum_col, x='name', figsize=(6, 3), legend=False)\n",
    "labels = [label.capitalize() for label in list(df_item_pop_cats['name'])]\n",
    "\n",
    "plt.title({'anime':'MAL', 'book':'BookCrossing', 'movie':'ML', 'music':'LFM', 'yahoo':'Yahoo! Movies'}[dataset])\n",
    "plt.xticks(ticks=range(len(labels)), labels=labels, rotation=90)\n",
    "plt.ylabel(\"#Users\")\n",
    "plt.xlabel(\"\")\n",
    "plt.savefig(dataset+'/'+dataset+'_user_genres.pdf', dpi=300, bbox_inches='tight')\n",
    "plt.show()"
   ],
   "metadata": {
    "collapsed": false,
    "pycharm": {
     "name": "#%%\n"
    }
   }
  },
  {
   "cell_type": "code",
   "execution_count": 14,
   "metadata": {
    "pycharm": {
     "name": "#%%\n"
    }
   },
   "outputs": [
    {
     "name": "stdout",
     "output_type": "stream",
     "text": [
      "Low count (for check): 1000\n",
      "Med count (for check): 1000\n",
      "High count (for check): 1000\n"
     ]
    }
   ],
   "source": [
    "# get pop fractions\n",
    "pop_count = [] # number of top items per user\n",
    "user_hist = [] # user history sizes\n",
    "pop_fraq = [] # relative number of top items per user\n",
    "pop_item_fraq = [] # average popularity of items in user profiles\n",
    "low_profile_size = 0\n",
    "low_gap = 0\n",
    "medium_profile_size = 0\n",
    "medium_gap = 0\n",
    "high_profile_size = 0\n",
    "high_gap = 0\n",
    "low_count = 0\n",
    "med_count = 0\n",
    "high_count = 0\n",
    "df_gap_p = pd.DataFrame(columns=['user', 'gap_p'])\n",
    "df_gap_p_items = pd.DataFrame(columns=['user', 'item', 'gap_p'])\n",
    "for u, df in df_events_cats.groupby('user'):\n",
    "    no_user_items = len(set(df[predict_col])) # profile size\n",
    "    no_user_pop_items = len(set(df[predict_col]) & set(top_item_dist.index)) # top items in profile\n",
    "    pop_count.append(no_user_pop_items)\n",
    "    user_hist.append(no_user_items)\n",
    "    pop_fraq.append(no_user_pop_items / no_user_items)\n",
    "    # get popularity (= fraction of users interacted with item) of user items and calculate average of it\n",
    "    user_pop_item_fraq = sum(item_dist[df[predict_col]] / no_users) / no_user_items\n",
    "    pop_item_fraq.append(user_pop_item_fraq)\n",
    "    df_gap_p = pd.concat([df_gap_p, pd.DataFrame.from_dict({'user': [u], 'gap_p': [user_pop_item_fraq]})], ignore_index=True)\n",
    "\n",
    "    item_list = list(df[predict_col])\n",
    "    df_gap_p_items = pd.concat([df_gap_p_items, pd.DataFrame.from_dict({'user': [u for _ in item_list], 'item': item_list, 'gap_p': [user_pop_item_fraq for _ in item_list]})], ignore_index=True)\n",
    "    if u in low_users.index: # get user group-specific values\n",
    "        low_profile_size += no_user_items\n",
    "        low_gap += user_pop_item_fraq\n",
    "        low_count += 1\n",
    "    elif u in medium_users.index:\n",
    "        medium_profile_size += no_user_items\n",
    "        medium_gap += user_pop_item_fraq\n",
    "        med_count += 1\n",
    "    else:\n",
    "        high_profile_size += no_user_items\n",
    "        high_gap += user_pop_item_fraq\n",
    "        high_count += 1\n",
    "low_profile_size /= len(low_users)\n",
    "medium_profile_size /= len(medium_users)\n",
    "high_profile_size /= len(high_users)\n",
    "low_gap /= len(low_users)\n",
    "medium_gap /= len(medium_users)\n",
    "high_gap /= len(high_users)\n",
    "print('Low count (for check): ' + str(low_count))\n",
    "print('Med count (for check): ' + str(med_count))\n",
    "print('High count (for check): ' + str(high_count))"
   ]
  },
  {
   "cell_type": "code",
   "execution_count": 15,
   "metadata": {
    "pycharm": {
     "name": "#%%\n"
    }
   },
   "outputs": [
    {
     "name": "stdout",
     "output_type": "stream",
     "text": [
      "Average LowMS profile size: 393.21\n",
      "Average MedMS profile size: 580.416\n",
      "Average HighMS profile size: 444.165\n"
     ]
    }
   ],
   "source": [
    "print('Average LowMS profile size: ' + str(low_profile_size))\n",
    "print('Average MedMS profile size: ' + str(medium_profile_size))\n",
    "print('Average HighMS profile size: ' + str(high_profile_size))"
   ]
  },
  {
   "cell_type": "markdown",
   "metadata": {
    "pycharm": {
     "name": "#%% md\n"
    }
   },
   "source": [
    "## Recommendations using Surprise package\n"
   ]
  },
  {
   "cell_type": "code",
   "execution_count": 16,
   "metadata": {
    "pycharm": {
     "name": "#%%\n"
    },
    "scrolled": true
   },
   "outputs": [
    {
     "name": "stdout",
     "output_type": "stream",
     "text": [
      "Min rating: 1.0\n",
      "Max rating: 1000.0\n"
     ]
    }
   ],
   "source": [
    "#df_events = scaled_df_events\n",
    "print('Min rating: ' + str(df_events_cats['preference'].min()))\n",
    "print('Max rating: ' + str(df_events_cats['preference'].max()))"
   ]
  },
  {
   "cell_type": "code",
   "execution_count": 17,
   "metadata": {
    "pycharm": {
     "name": "#%%\n"
    }
   },
   "outputs": [],
   "source": [
    "reader = Reader(rating_scale=(df_events_cats['preference'].min(), df_events_cats['preference'].max()))"
   ]
  },
  {
   "cell_type": "code",
   "execution_count": 18,
   "metadata": {
    "pycharm": {
     "name": "#%%\n"
    }
   },
   "outputs": [],
   "source": [
    "data = Dataset.load_from_df(df_events_cats[df_events_cats.columns[:-1]], reader)\n",
    "kf = KFold(n_splits=folds, random_state=my_seed)"
   ]
  },
  {
   "cell_type": "code",
   "execution_count": 19,
   "metadata": {
    "pycharm": {
     "name": "#%%\n"
    }
   },
   "outputs": [],
   "source": [
    "def get_top_n(predictions, n=10):\n",
    "    # First map the predictions to each user.\n",
    "    top_n = defaultdict(list)\n",
    "    for uid, iid, true_r, est, _ in predictions:\n",
    "        top_n[uid].append((iid, est))\n",
    "    # Then sort the predictions for each user and retrieve the k highest ones.\n",
    "    for uid, user_ratings in top_n.items():\n",
    "        user_ratings.sort(key=lambda x: x[1], reverse=True)\n",
    "        top_n[uid] = user_ratings[:n]\n",
    "    return top_n"
   ]
  },
  {
   "cell_type": "code",
   "execution_count": 20,
   "metadata": {
    "pycharm": {
     "name": "#%%\n"
    }
   },
   "outputs": [],
   "source": [
    "def get_top_n_random(testset, n=10):\n",
    "    top_n = defaultdict(list)\n",
    "    for uid, iid, true_r in testset:\n",
    "        if len(top_n[uid]) == 0:\n",
    "            for i in range(0, 10):\n",
    "                top_n[uid].append((rd.choice(item_dist.index), i))\n",
    "    return top_n"
   ]
  },
  {
   "cell_type": "code",
   "execution_count": 21,
   "metadata": {
    "pycharm": {
     "name": "#%%\n"
    }
   },
   "outputs": [],
   "source": [
    "def get_top_n_mp(testset, n=10):\n",
    "    top_n = defaultdict(list)\n",
    "    for uid, iid, true_r in testset:\n",
    "        if len(top_n[uid]) == 0:\n",
    "            for iid, count in item_dist[:n].items():\n",
    "                top_n[uid].append((iid, count))\n",
    "    return top_n"
   ]
  },
  {
   "cell_type": "code",
   "execution_count": 22,
   "metadata": {
    "pycharm": {
     "name": "#%%\n"
    }
   },
   "outputs": [],
   "source": [
    "def get_mae_of_groups(predictions):\n",
    "    low_predictions = []\n",
    "    med_predictions = []\n",
    "    high_predictions = []\n",
    "    dict_maes = {'user': [], 'item': [], 'mae': []}\n",
    "    for uid, iid, true_r, est, details in predictions:\n",
    "        prediction = [(uid, iid, true_r, est, details)]\n",
    "        dict_maes['user'].append(uid)\n",
    "        dict_maes['item'].append(iid)\n",
    "        dict_maes['mae'].append(accuracy.mae(prediction, verbose=False))\n",
    "\n",
    "        if uid in low_users.index:\n",
    "            low_predictions.append(accuracy.mae(prediction, verbose=False))\n",
    "        elif uid in medium_users.index:\n",
    "            med_predictions.append(accuracy.mae(prediction, verbose=False))\n",
    "        elif uid in high_users.index:\n",
    "            high_predictions.append(accuracy.mae(prediction, verbose=False))\n",
    "\n",
    "    return pd.DataFrame.from_dict(dict_maes), [low_predictions, med_predictions, high_predictions]"
   ]
  },
  {
   "cell_type": "code",
   "execution_count": 23,
   "metadata": {
    "pycharm": {
     "name": "#%%\n"
    }
   },
   "outputs": [],
   "source": [
    "# create item dataframe with normalized item counts\n",
    "df_item_dist = pd.DataFrame(item_dist)\n",
    "df_item_dist.columns = ['count']\n",
    "df_item_dist['count'] /= no_users"
   ]
  },
  {
   "cell_type": "code",
   "execution_count": 24,
   "metadata": {
    "pycharm": {
     "name": "#%%\n"
    },
    "scrolled": true
   },
   "outputs": [],
   "source": [
    "sim_users = {'name': 'cosine', 'user_based': True}  # compute cosine similarities between users\n",
    "algos = [BaselineOnly(),\n",
    "         KNNBasic(sim_options=sim_users),\n",
    "         KNNWithMeans(sim_options=sim_users),\n",
    "         NMF(n_factors=30, random_state=my_seed),\n",
    "         CoClustering(n_cltr_u=3, n_cltr_i=3, random_state=my_seed)]\n",
    "algo_names = ['UserItemAvg',\n",
    "              'UserKNN',\n",
    "              'UserKNNAvg',\n",
    "              'NMF',\n",
    "              'Co-Custering']"
   ]
  },
  {
   "cell_type": "code",
   "execution_count": 25,
   "metadata": {
    "pycharm": {
     "name": "#%%\n"
    }
   },
   "outputs": [
    {
     "name": "stdout",
     "output_type": "stream",
     "text": [
      "UserItemAvg\n",
      "Estimating biases using als...\n",
      "Ttest_indResult(statistic=26.78617659365397, pvalue=9.073286956307234e-158)\n",
      "Ttest_indResult(statistic=7.823789097840463, pvalue=5.155341298124944e-15)\n",
      "1000 1000 1000\n",
      "Estimating biases using als...\n",
      "Ttest_indResult(statistic=25.144468657297303, pvalue=2.7149791404166108e-139)\n",
      "Ttest_indResult(statistic=6.6378321395920326, pvalue=3.192947443879208e-11)\n",
      "1000 1000 999\n",
      "Estimating biases using als...\n",
      "Ttest_indResult(statistic=25.212334286663125, pvalue=4.929838401571281e-140)\n",
      "Ttest_indResult(statistic=6.660276095589185, pvalue=2.7415561041831755e-11)\n",
      "1000 1000 1000\n",
      "Estimating biases using als...\n",
      "Ttest_indResult(statistic=26.176072652653477, pvalue=9.09614091905237e-151)\n",
      "Ttest_indResult(statistic=6.715883526547393, pvalue=1.875231224854115e-11)\n",
      "1000 1000 1000\n",
      "Estimating biases using als...\n",
      "Ttest_indResult(statistic=24.962301203917413, pvalue=2.586607863011874e-137)\n",
      "Ttest_indResult(statistic=5.509998898998822, pvalue=3.5936147306514286e-08)\n",
      "1000 1000 1000\n",
      "43.24578971034506\n",
      "LowMS: 48.02445926332793\n",
      "MedMS: 38.47996679284893\n",
      "HighMS: 45.24329393516244\n",
      "UserKNN\n",
      "Computing the cosine similarity matrix...\n",
      "Done computing similarity matrix.\n",
      "Ttest_indResult(statistic=21.05017849346899, pvalue=2.934056449890773e-98)\n",
      "Ttest_indResult(statistic=12.051247474289392, pvalue=1.9722865801173766e-33)\n",
      "1000 1000 1000\n",
      "Computing the cosine similarity matrix...\n",
      "Done computing similarity matrix.\n",
      "Ttest_indResult(statistic=18.725447302621088, pvalue=3.5983353960248893e-78)\n",
      "Ttest_indResult(statistic=10.246652847000403, pvalue=1.2458215586069008e-24)\n",
      "1000 1000 999\n",
      "Computing the cosine similarity matrix...\n",
      "Done computing similarity matrix.\n",
      "Ttest_indResult(statistic=18.96847625455117, pvalue=3.672104047393292e-80)\n",
      "Ttest_indResult(statistic=10.311147398158138, pvalue=6.383793372293998e-25)\n",
      "1000 1000 1000\n",
      "Computing the cosine similarity matrix...\n",
      "Done computing similarity matrix.\n",
      "Ttest_indResult(statistic=20.281997798589984, pvalue=2.3060672713124198e-91)\n",
      "Ttest_indResult(statistic=10.5965213938174, pvalue=3.152454395113649e-26)\n",
      "1000 1000 1000\n",
      "Computing the cosine similarity matrix...\n",
      "Done computing similarity matrix.\n",
      "Ttest_indResult(statistic=18.611459407030882, pvalue=3.028912245482647e-77)\n",
      "Ttest_indResult(statistic=9.028736690057173, pvalue=1.754360121152986e-19)\n",
      "1000 1000 1000\n",
      "49.79342510028577\n",
      "LowMS: 54.319532442704315\n",
      "MedMS: 46.75717972973332\n",
      "HighMS: 49.754384256219254\n",
      "UserKNNAvg\n",
      "Computing the cosine similarity matrix...\n",
      "Done computing similarity matrix.\n",
      "Ttest_indResult(statistic=26.99025511107166, pvalue=3.803675773947408e-160)\n",
      "Ttest_indResult(statistic=10.255559152788086, pvalue=1.1362240076034714e-24)\n",
      "1000 1000 1000\n",
      "Computing the cosine similarity matrix...\n",
      "Done computing similarity matrix.\n",
      "Ttest_indResult(statistic=25.236936349343292, pvalue=2.653715292759284e-140)\n",
      "Ttest_indResult(statistic=8.93483113958435, pvalue=4.1179238170157346e-19)\n",
      "1000 1000 999\n",
      "Computing the cosine similarity matrix...\n",
      "Done computing similarity matrix.\n",
      "Ttest_indResult(statistic=25.233852845809615, pvalue=2.8675570671785263e-140)\n",
      "Ttest_indResult(statistic=8.760052836969397, pvalue=1.969308173404984e-18)\n",
      "1000 1000 1000\n",
      "Computing the cosine similarity matrix...\n",
      "Done computing similarity matrix.\n",
      "Ttest_indResult(statistic=26.12172126012385, pvalue=3.756873750673439e-150)\n",
      "Ttest_indResult(statistic=8.472882298271724, pvalue=2.4129296121544522e-17)\n",
      "1000 1000 1000\n",
      "Computing the cosine similarity matrix...\n",
      "Done computing similarity matrix.\n",
      "Ttest_indResult(statistic=24.99238404979232, pvalue=1.221599974818265e-137)\n",
      "Ttest_indResult(statistic=7.372173950172112, pvalue=1.686356532278724e-13)\n",
      "1000 1000 1000\n",
      "44.933302280500634\n",
      "LowMS: 50.12271186124609\n",
      "MedMS: 40.30495420457173\n",
      "HighMS: 46.38757446815873\n",
      "NMF\n",
      "Ttest_indResult(statistic=21.12536516703511, pvalue=6.010603226937497e-99)\n",
      "Ttest_indResult(statistic=3.5701952889631765, pvalue=0.0003568149601136391)\n",
      "1000 1000 1000\n",
      "Ttest_indResult(statistic=19.048593195166596, pvalue=7.997576271707673e-81)\n",
      "Ttest_indResult(statistic=2.5423625989859926, pvalue=0.011011480099305833)\n",
      "1000 1000 999\n",
      "Ttest_indResult(statistic=19.27704599371761, pvalue=1.0002653759898911e-82)\n",
      "Ttest_indResult(statistic=2.8055612724767895, pvalue=0.005023483613388865)\n",
      "1000 1000 1000\n",
      "Ttest_indResult(statistic=20.465804571165194, pvalue=5.445871523644083e-93)\n",
      "Ttest_indResult(statistic=3.6030189285667795, pvalue=0.0003146336010315405)\n",
      "1000 1000 1000\n",
      "Ttest_indResult(statistic=18.43863203319351, pvalue=7.469876259027611e-76)\n",
      "Ttest_indResult(statistic=1.1274097854712632, pvalue=0.25957087696153347)\n",
      "1000 1000 1000\n",
      "38.598341043922055\n",
      "LowMS: 42.469508779474936\n",
      "MedMS: 34.030349030718675\n",
      "HighMS: 41.14068398109514\n",
      "Co-Custering\n"
     ]
    },
    {
     "name": "stderr",
     "output_type": "stream",
     "text": [
      "C:\\Users\\prism\\AppData\\Local\\Temp\\ipykernel_21172\\3570483800.py:21: DeprecationWarning: `np.int` is a deprecated alias for the builtin `int`. To silence this warning, use `int` by itself. Doing this will not modify any behavior and is safe. When replacing `np.int`, you may wish to use e.g. `np.int64` or `np.int32` to specify the precision. If you wish to review your current use, check the release note link for additional information.\n",
      "Deprecated in NumPy 1.20; for more details and guidance: https://numpy.org/devdocs/release/1.20.0-notes.html#deprecations\n",
      "  algos[i].fit(trainset)\n"
     ]
    },
    {
     "name": "stdout",
     "output_type": "stream",
     "text": [
      "Ttest_indResult(statistic=31.952931519282867, pvalue=1.873234411471507e-223)\n",
      "Ttest_indResult(statistic=14.88721994480163, pvalue=4.296304923614652e-50)\n",
      "1000 1000 1000\n"
     ]
    },
    {
     "name": "stderr",
     "output_type": "stream",
     "text": [
      "C:\\Users\\prism\\AppData\\Local\\Temp\\ipykernel_21172\\3570483800.py:21: DeprecationWarning: `np.int` is a deprecated alias for the builtin `int`. To silence this warning, use `int` by itself. Doing this will not modify any behavior and is safe. When replacing `np.int`, you may wish to use e.g. `np.int64` or `np.int32` to specify the precision. If you wish to review your current use, check the release note link for additional information.\n",
      "Deprecated in NumPy 1.20; for more details and guidance: https://numpy.org/devdocs/release/1.20.0-notes.html#deprecations\n",
      "  algos[i].fit(trainset)\n"
     ]
    },
    {
     "name": "stdout",
     "output_type": "stream",
     "text": [
      "Ttest_indResult(statistic=29.094429605915153, pvalue=1.0587369656586664e-185)\n",
      "Ttest_indResult(statistic=12.719902772536978, pvalue=4.7690474762264835e-37)\n",
      "1000 1000 999\n"
     ]
    },
    {
     "name": "stderr",
     "output_type": "stream",
     "text": [
      "C:\\Users\\prism\\AppData\\Local\\Temp\\ipykernel_21172\\3570483800.py:21: DeprecationWarning: `np.int` is a deprecated alias for the builtin `int`. To silence this warning, use `int` by itself. Doing this will not modify any behavior and is safe. When replacing `np.int`, you may wish to use e.g. `np.int64` or `np.int32` to specify the precision. If you wish to review your current use, check the release note link for additional information.\n",
      "Deprecated in NumPy 1.20; for more details and guidance: https://numpy.org/devdocs/release/1.20.0-notes.html#deprecations\n",
      "  algos[i].fit(trainset)\n"
     ]
    },
    {
     "name": "stdout",
     "output_type": "stream",
     "text": [
      "Ttest_indResult(statistic=29.544416600272314, pvalue=2.0577685779517265e-191)\n",
      "Ttest_indResult(statistic=11.87234904235796, pvalue=1.6981635114150425e-32)\n",
      "1000 1000 1000\n"
     ]
    },
    {
     "name": "stderr",
     "output_type": "stream",
     "text": [
      "C:\\Users\\prism\\AppData\\Local\\Temp\\ipykernel_21172\\3570483800.py:21: DeprecationWarning: `np.int` is a deprecated alias for the builtin `int`. To silence this warning, use `int` by itself. Doing this will not modify any behavior and is safe. When replacing `np.int`, you may wish to use e.g. `np.int64` or `np.int32` to specify the precision. If you wish to review your current use, check the release note link for additional information.\n",
      "Deprecated in NumPy 1.20; for more details and guidance: https://numpy.org/devdocs/release/1.20.0-notes.html#deprecations\n",
      "  algos[i].fit(trainset)\n"
     ]
    },
    {
     "name": "stdout",
     "output_type": "stream",
     "text": [
      "Ttest_indResult(statistic=30.967790536479537, pvalue=4.759743790671466e-210)\n",
      "Ttest_indResult(statistic=13.142699812518702, pvalue=1.960436732665142e-39)\n",
      "1000 1000 1000\n"
     ]
    },
    {
     "name": "stderr",
     "output_type": "stream",
     "text": [
      "C:\\Users\\prism\\AppData\\Local\\Temp\\ipykernel_21172\\3570483800.py:21: DeprecationWarning: `np.int` is a deprecated alias for the builtin `int`. To silence this warning, use `int` by itself. Doing this will not modify any behavior and is safe. When replacing `np.int`, you may wish to use e.g. `np.int64` or `np.int32` to specify the precision. If you wish to review your current use, check the release note link for additional information.\n",
      "Deprecated in NumPy 1.20; for more details and guidance: https://numpy.org/devdocs/release/1.20.0-notes.html#deprecations\n",
      "  algos[i].fit(trainset)\n"
     ]
    },
    {
     "name": "stdout",
     "output_type": "stream",
     "text": [
      "Ttest_indResult(statistic=29.05931144037006, pvalue=2.931348264395327e-185)\n",
      "Ttest_indResult(statistic=11.308138606461307, pvalue=1.2259657414167872e-29)\n",
      "1000 1000 1000\n",
      "46.03545563186644\n",
      "LowMS: 52.595205424654765\n",
      "MedMS: 40.83101806004999\n",
      "HighMS: 47.02960099386921\n"
     ]
    }
   ],
   "source": [
    "q = [{} for _ in range(folds)]\n",
    "maes = {}\n",
    "maes_user = {}\n",
    "low_rec_gap_list = [] # one entry per algorithm\n",
    "medium_rec_gap_list = []\n",
    "high_rec_gap_list = []\n",
    "gaps_q = {}\n",
    "for i in range(0, len(algo_names)):\n",
    "    print(algo_names[i])\n",
    "\n",
    "    df_item_dist[algo_names[i]] = 0\n",
    "    low_rec_gaps = [0 for _ in range(folds)]\n",
    "    medium_rec_gaps = [0 for _ in range(folds)]\n",
    "    high_rec_gaps = [0 for _ in range(folds)]\n",
    "\n",
    "    fold = 0\n",
    "    mae_list = []\n",
    "    predictions_maes = [0 for _ in range(3)]\n",
    "    for trainset, testset in kf.split(data):\n",
    "        # get accuracy for personalized approaches\n",
    "        algos[i].fit(trainset)\n",
    "        predictions = algos[i].test(testset, verbose=False)\n",
    "        mae_list.append(accuracy.mae(predictions, verbose=False))\n",
    "        df_mae, predictions_mae = get_mae_of_groups(predictions)\n",
    "        if algo_names[i] not in maes:\n",
    "            maes[algo_names[i]] = df_mae\n",
    "            maes[algo_names[i]]['mae'] /= folds\n",
    "        else:\n",
    "            maes[algo_names[i]]['mae'] += df_mae['mae'] / folds\n",
    "\n",
    "        predictions_maes = [predictions_maes[i] + np.mean(predictions_mae[i])/folds for i in range(3)]\n",
    "        print(stats.ttest_ind(predictions_mae[0], predictions_mae[1]))\n",
    "        print(stats.ttest_ind(predictions_mae[0], predictions_mae[2]))\n",
    "\n",
    "        top_n = get_top_n(predictions, n=10)\n",
    "        q[fold][algo_names[i]] = top_n.items()\n",
    "\n",
    "        low_count = 0\n",
    "        med_count = 0\n",
    "        high_count = 0\n",
    "        dict_gap_q = {'user':[], 'gap_q':[]}\n",
    "        for uid, user_ratings in top_n.items():\n",
    "            iid_list = []\n",
    "            for (iid, _) in user_ratings:\n",
    "                df_item_dist.loc[iid, algo_names[i]] += 1\n",
    "                iid_list.append(iid)\n",
    "            gap = sum(item_dist[iid_list] / no_users) / len(iid_list)\n",
    "            dict_gap_q['user'].append(uid)\n",
    "            dict_gap_q['gap_q'].append(gap / folds)\n",
    "            if uid in low_users.index:\n",
    "                low_rec_gaps[fold] += gap\n",
    "                low_count += 1\n",
    "            elif uid in medium_users.index:\n",
    "                medium_rec_gaps[fold] += gap\n",
    "                med_count += 1\n",
    "            elif uid in high_users.index:\n",
    "                high_rec_gaps[fold] += gap\n",
    "                high_count += 1\n",
    "\n",
    "        if algo_names[i] not in gaps_q:\n",
    "            gaps_q[algo_names[i]] = pd.DataFrame.from_dict(dict_gap_q)\n",
    "        else:\n",
    "            gaps_q[algo_names[i]]['gap_q'] += pd.DataFrame.from_dict(dict_gap_q)['gap_q']\n",
    "        low_rec_gaps[fold] /= low_count\n",
    "        medium_rec_gaps[fold] /= med_count\n",
    "        high_rec_gaps[fold] /= high_count\n",
    "        # check, if all users are used\n",
    "        print(low_count, med_count, high_count)\n",
    "        fold += 1\n",
    "\n",
    "    low_rec_gap_list.append(np.mean(low_rec_gaps))\n",
    "    medium_rec_gap_list.append(np.mean(medium_rec_gaps))\n",
    "    high_rec_gap_list.append(np.mean(high_rec_gaps))\n",
    "\n",
    "    maes_user[algo_names[i]] = maes[algo_names[i]].drop(['item'], axis=1)\n",
    "\n",
    "    print(np.mean(mae_list))\n",
    "    print('LowMS: ' + str(predictions_maes[0]))\n",
    "    print('MedMS: ' + str(predictions_maes[1]))\n",
    "    print('HighMS: ' + str(predictions_maes[2]))\n",
    "\n",
    "    i += 1 # next algorithm"
   ]
  },
  {
   "cell_type": "code",
   "execution_count": 26,
   "metadata": {
    "pycharm": {
     "name": "#%%\n"
    }
   },
   "outputs": [
    {
     "data": {
      "text/plain": "          user    item         rank\n2191  47047898  358722  1000.000000\n2781  25998509  245593  1000.000000\n880   12627031  209303   987.309982\n88    10274685   23056   985.129845\n1904  19086268  177469   970.202217",
      "text/html": "<div>\n<style scoped>\n    .dataframe tbody tr th:only-of-type {\n        vertical-align: middle;\n    }\n\n    .dataframe tbody tr th {\n        vertical-align: top;\n    }\n\n    .dataframe thead th {\n        text-align: right;\n    }\n</style>\n<table border=\"1\" class=\"dataframe\">\n  <thead>\n    <tr style=\"text-align: right;\">\n      <th></th>\n      <th>user</th>\n      <th>item</th>\n      <th>rank</th>\n    </tr>\n  </thead>\n  <tbody>\n    <tr>\n      <th>2191</th>\n      <td>47047898</td>\n      <td>358722</td>\n      <td>1000.000000</td>\n    </tr>\n    <tr>\n      <th>2781</th>\n      <td>25998509</td>\n      <td>245593</td>\n      <td>1000.000000</td>\n    </tr>\n    <tr>\n      <th>880</th>\n      <td>12627031</td>\n      <td>209303</td>\n      <td>987.309982</td>\n    </tr>\n    <tr>\n      <th>88</th>\n      <td>10274685</td>\n      <td>23056</td>\n      <td>985.129845</td>\n    </tr>\n    <tr>\n      <th>1904</th>\n      <td>19086268</td>\n      <td>177469</td>\n      <td>970.202217</td>\n    </tr>\n  </tbody>\n</table>\n</div>"
     },
     "execution_count": 26,
     "metadata": {},
     "output_type": "execute_result"
    }
   ],
   "source": [
    "d_predictions = [{} for _ in range(folds)]\n",
    "for fold in range(folds):\n",
    "    for i in range(len(algo_names)):\n",
    "        df_a = pd.DataFrame(q[fold][algo_names[i]], columns=['user', 'item_ratings'])\n",
    "        df_a = df_a.explode('item_ratings')\n",
    "        df_a[['item', 'rank']] = pd.DataFrame(df_a['item_ratings'].tolist(), index=df_a.index)\n",
    "        df_a.drop('item_ratings', axis=1, inplace=True)\n",
    "        df_a.sort_values('rank', ascending=False, inplace=True)\n",
    "        d_predictions[fold][algo_names[i]] = df_a\n",
    "\n",
    "d_predictions[0][algo_names[2]].head()"
   ]
  },
  {
   "cell_type": "code",
   "execution_count": 27,
   "metadata": {
    "pycharm": {
     "name": "#%%\n"
    }
   },
   "outputs": [
    {
     "name": "stdout",
     "output_type": "stream",
     "text": [
      "UserItemAvg\n",
      "LowMS: 1.279680106529924\n",
      "MedMS: 1.606083159823547\n",
      "HighMS: 1.3452937037499322\n",
      "Ttest_indResult(statistic=136.70146971678278, pvalue=0.0)\n",
      "Ttest_indResult(statistic=nan, pvalue=nan)\n",
      "----------------------\n",
      "UserKNN\n",
      "LowMS: 0.5203366385858436\n",
      "MedMS: 0.8197894626905131\n",
      "HighMS: 0.7964080913677305\n",
      "Ttest_indResult(statistic=125.90238714820204, pvalue=0.0)\n",
      "Ttest_indResult(statistic=nan, pvalue=nan)\n",
      "----------------------\n",
      "UserKNNAvg\n",
      "LowMS: 0.3463905873634827\n",
      "MedMS: 0.6066466961309899\n",
      "HighMS: 0.6382568880407329\n",
      "Ttest_indResult(statistic=118.87626516899346, pvalue=0.0)\n",
      "Ttest_indResult(statistic=nan, pvalue=nan)\n",
      "----------------------\n",
      "NMF\n",
      "LowMS: 0.10227547204755356\n",
      "MedMS: 0.16623095441454863\n",
      "HighMS: 0.3340485850241365\n",
      "Ttest_indResult(statistic=169.18094600632963, pvalue=0.0)\n",
      "Ttest_indResult(statistic=nan, pvalue=nan)\n",
      "----------------------\n",
      "Co-Custering\n",
      "LowMS: 0.6813585010272805\n",
      "MedMS: 1.0377029794233392\n",
      "HighMS: 0.9887047633425067\n",
      "Ttest_indResult(statistic=120.21905566506453, pvalue=0.0)\n",
      "Ttest_indResult(statistic=nan, pvalue=nan)\n",
      "----------------------\n"
     ]
    }
   ],
   "source": [
    "low_pl_vals = []\n",
    "medium_pl_vals = []\n",
    "high_pl_vals = []\n",
    "pls = {}\n",
    "pls_items = {}\n",
    "for i in range(0, len(algos)):\n",
    "    print(algo_names[i])\n",
    "    pl_low = (low_rec_gap_list[i] - low_gap) / low_gap\n",
    "    pl_med = (medium_rec_gap_list[i] - medium_gap) / medium_gap\n",
    "    pl_high = (high_rec_gap_list[i] - high_gap) / high_gap\n",
    "    print('LowMS:', pl_low)\n",
    "    print('MedMS:', pl_med)\n",
    "    print('HighMS:', pl_high)\n",
    "\n",
    "    low_pl_vals.append(pl_low)# * 100)\n",
    "    medium_pl_vals.append(pl_med)# * 100)\n",
    "    high_pl_vals.append(pl_high)# * 100)\n",
    "\n",
    "    df_gap = gaps_q[algo_names[i]].merge(df_gap_p, on=['user'])\n",
    "    df_gap['pl'] = (df_gap['gap_q'] - df_gap['gap_p']) / df_gap['gap_p']\n",
    "    pls[algo_names[i]] = df_gap[['user', 'pl']]\n",
    "\n",
    "    df_gap_items = df_gap_p_items.merge(gaps_q[algo_names[i]], on=['user'])\n",
    "    df_gap_items['pl'] = (df_gap_items['gap_q'] - df_gap_items['gap_p']) / df_gap_items['gap_p']\n",
    "    pls_items[algo_names[i]] = df_gap_items[['user', 'item', 'pl']]\n",
    "\n",
    "    print(stats.ttest_ind(df_gap_items.loc[df_gap_items['user'].isin(low_users.index)]['pl'], df_gap_items.loc[df_gap_items['user'].isin(medium_users.index)]['pl']))\n",
    "    print(stats.ttest_ind(df_gap_items.loc[df_gap_items['user'].isin(low_users.index)]['pl'], df_gap_items.loc[df_gap_items['user'].isin(high_users.index)]['pl']))\n",
    "    print('----------------------')\n"
   ]
  },
  {
   "cell_type": "markdown",
   "metadata": {
    "pycharm": {
     "is_executing": true,
     "name": "#%% md\n"
    }
   },
   "source": [
    "## Miscalibration Metric"
   ]
  },
  {
   "cell_type": "code",
   "execution_count": 28,
   "metadata": {
    "pycharm": {
     "name": "#%%\n"
    }
   },
   "outputs": [],
   "source": [
    "def calc_pcu(df_events_):\n",
    "    cols_pcu = ['user', 'cat', 'metric']\n",
    "    # Remove artists with no genres\n",
    "    df_events = df_events_.copy()\n",
    "\n",
    "    cols_weights = ['user', 'sum']\n",
    "    s_weights_sum = df_events.groupby('user')['preference'].sum().reset_index()#.to_frame().reset_index()\n",
    "    s_weights_sum.columns = cols_weights\n",
    "\n",
    "    df_events[\"cats\"] = df_events[\"cats\"].str.split(\"|\")\n",
    "    df_events_split = df_events.explode(\"cats\").reset_index(drop=True)\n",
    "    df_events_split[\"count\"] = df_events_split.groupby(['user','item'])[\"cats\"].transform('count')\n",
    "\n",
    "    df_events_split[\"wipci\"] = df_events_split[\"preference\"] / df_events_split[\"count\"]\n",
    "\n",
    "    df_dist = df_events_split.groupby(['user', 'cats'])['wipci'].sum().to_frame().reset_index()\n",
    "\n",
    "    df_msc = df_dist.merge(s_weights_sum, on=['user'])\n",
    "    df_msc[['wipci']] = df_msc[['wipci']].div(df_msc['sum'], axis=0)\n",
    "    df_msc.drop('sum', axis=1, inplace=True)\n",
    "    df_msc.columns = cols_pcu\n",
    "    return df_msc"
   ]
  },
  {
   "cell_type": "code",
   "execution_count": 29,
   "metadata": {
    "pycharm": {
     "name": "#%%\n"
    }
   },
   "outputs": [
    {
     "data": {
      "text/plain": "      user cat    metric\n0  1021445   0  0.009495\n1  1021445   1  0.003672\n2  1021445  10  0.004877\n3  1021445  11  0.003556\n4  1021445  12  0.004073",
      "text/html": "<div>\n<style scoped>\n    .dataframe tbody tr th:only-of-type {\n        vertical-align: middle;\n    }\n\n    .dataframe tbody tr th {\n        vertical-align: top;\n    }\n\n    .dataframe thead th {\n        text-align: right;\n    }\n</style>\n<table border=\"1\" class=\"dataframe\">\n  <thead>\n    <tr style=\"text-align: right;\">\n      <th></th>\n      <th>user</th>\n      <th>cat</th>\n      <th>metric</th>\n    </tr>\n  </thead>\n  <tbody>\n    <tr>\n      <th>0</th>\n      <td>1021445</td>\n      <td>0</td>\n      <td>0.009495</td>\n    </tr>\n    <tr>\n      <th>1</th>\n      <td>1021445</td>\n      <td>1</td>\n      <td>0.003672</td>\n    </tr>\n    <tr>\n      <th>2</th>\n      <td>1021445</td>\n      <td>10</td>\n      <td>0.004877</td>\n    </tr>\n    <tr>\n      <th>3</th>\n      <td>1021445</td>\n      <td>11</td>\n      <td>0.003556</td>\n    </tr>\n    <tr>\n      <th>4</th>\n      <td>1021445</td>\n      <td>12</td>\n      <td>0.004073</td>\n    </tr>\n  </tbody>\n</table>\n</div>"
     },
     "execution_count": 29,
     "metadata": {},
     "output_type": "execute_result"
    }
   ],
   "source": [
    "df_pcu = calc_pcu(df_events_cats)\n",
    "df_pcu.head()"
   ]
  },
  {
   "cell_type": "code",
   "execution_count": 30,
   "metadata": {
    "pycharm": {
     "name": "#%%\n"
    }
   },
   "outputs": [],
   "source": [
    "def calc_qcu(df_predictions_, df_item_cats_, algo_name):\n",
    "    # drop rows in ignore list\n",
    "    # group by user id and artist\n",
    "    df_predictions = df_predictions_.copy()\n",
    "    df_item_cats = df_item_cats_.copy()\n",
    "    df_predictions['user'] = df_predictions['user'].astype(int)\n",
    "    if dataset == 'book':\n",
    "        df_item_cats['item'] = df_item_cats['item'].astype(str)\n",
    "    else:\n",
    "        df_predictions['item'] = df_predictions['item'].astype(int)\n",
    "    df_item_cats['cats'] = df_item_cats['cats'].astype(str)\n",
    "\n",
    "    df_predictions['rank'] = df_predictions['rank'].astype(float)\n",
    "    # calc mean if item is recommended multiple times\n",
    "    df_predictions = df_predictions.groupby(['user', 'item'])['rank'].mean().reset_index(name='preference')\n",
    "    # Calculate sum of weights\n",
    "    s_weights_sum = df_predictions.groupby('user')['preference'].sum().reset_index()\n",
    "    s_weights_sum.columns = cols_weights\n",
    "    # Split user_predictions genres into rows\n",
    "    df_predictions = df_predictions.merge(df_item_cats,on='item', how='left')#.reset_index()\n",
    "    df_predictions['cats'] = df_predictions['cats'].astype(str)\n",
    "    df_predictions[\"cats\"] = df_predictions[\"cats\"].str.split(\"|\")\n",
    "    df_predictions = df_predictions.explode(\"cats\").reset_index(drop=True)\n",
    "    df_predictions[\"count\"] = df_predictions.groupby(['user','item'])[\"cats\"].transform('count')\n",
    "    # calculate weighted p(c|i)\n",
    "    # wi * pci, wi -> preference(rank), pci -> 1/count\n",
    "    df_predictions[\"wipci\"] = df_predictions[\"preference\"] / df_predictions[\"count\"]\n",
    "    # Sum up genres\n",
    "    df_dist = df_predictions.groupby(['user', 'cats'])['wipci'].sum().to_frame().reset_index()\n",
    "    # Divide by sum of weights\n",
    "    df_dist = df_dist.merge(s_weights_sum, on=['user'])\n",
    "    df_dist['wipci'] /= df_dist['sum']\n",
    "    df_dist.drop('sum', axis=1, inplace=True)\n",
    "    df_dist.columns = cols_msc\n",
    "    df_dist = df_dist[df_dist.astype(str)['cat'] != 'nan']\n",
    "    return df_dist"
   ]
  },
  {
   "cell_type": "code",
   "execution_count": 31,
   "metadata": {
    "pycharm": {
     "name": "#%%\n"
    }
   },
   "outputs": [
    {
     "data": {
      "text/plain": "            item            cats\n0             57      3|16|15|18\n1            113       2|16|18|3\n2            137        2|3|16|0\n3            142           0|3|2\n4            179  16|1|3|18|15|0\n...          ...             ...\n1417786   543672              12\n1417787    28392         13|12|3\n1417788   201181           12|15\n1417789  2902578             5|3\n1417790   328694            12|2\n\n[131188 rows x 2 columns]",
      "text/html": "<div>\n<style scoped>\n    .dataframe tbody tr th:only-of-type {\n        vertical-align: middle;\n    }\n\n    .dataframe tbody tr th {\n        vertical-align: top;\n    }\n\n    .dataframe thead th {\n        text-align: right;\n    }\n</style>\n<table border=\"1\" class=\"dataframe\">\n  <thead>\n    <tr style=\"text-align: right;\">\n      <th></th>\n      <th>item</th>\n      <th>cats</th>\n    </tr>\n  </thead>\n  <tbody>\n    <tr>\n      <th>0</th>\n      <td>57</td>\n      <td>3|16|15|18</td>\n    </tr>\n    <tr>\n      <th>1</th>\n      <td>113</td>\n      <td>2|16|18|3</td>\n    </tr>\n    <tr>\n      <th>2</th>\n      <td>137</td>\n      <td>2|3|16|0</td>\n    </tr>\n    <tr>\n      <th>3</th>\n      <td>142</td>\n      <td>0|3|2</td>\n    </tr>\n    <tr>\n      <th>4</th>\n      <td>179</td>\n      <td>16|1|3|18|15|0</td>\n    </tr>\n    <tr>\n      <th>...</th>\n      <td>...</td>\n      <td>...</td>\n    </tr>\n    <tr>\n      <th>1417786</th>\n      <td>543672</td>\n      <td>12</td>\n    </tr>\n    <tr>\n      <th>1417787</th>\n      <td>28392</td>\n      <td>13|12|3</td>\n    </tr>\n    <tr>\n      <th>1417788</th>\n      <td>201181</td>\n      <td>12|15</td>\n    </tr>\n    <tr>\n      <th>1417789</th>\n      <td>2902578</td>\n      <td>5|3</td>\n    </tr>\n    <tr>\n      <th>1417790</th>\n      <td>328694</td>\n      <td>12|2</td>\n    </tr>\n  </tbody>\n</table>\n<p>131188 rows × 2 columns</p>\n</div>"
     },
     "execution_count": 31,
     "metadata": {},
     "output_type": "execute_result"
    }
   ],
   "source": [
    "df_item_cats = df_events_cats.copy()\n",
    "df_item_cats.drop(['user', 'preference'], axis=1, inplace=True)\n",
    "df_item_cats.drop_duplicates(inplace=True)\n",
    "df_item_cats"
   ]
  },
  {
   "cell_type": "code",
   "execution_count": 32,
   "metadata": {
    "pycharm": {
     "name": "#%% calculate 𝑞(𝑐|𝑢)\n"
    }
   },
   "outputs": [],
   "source": [
    "df_qcu = [{} for _ in range(folds)]\n",
    "cols_weights = ['user', 'sum']\n",
    "cols_msc = ['user', 'cat', 'metric']\n",
    "for fold in range(folds):\n",
    "    for i in range(0, len(algo_names)):\n",
    "        df_msc = calc_qcu(d_predictions[fold][algo_names[i]], df_item_cats, algo_names[i])\n",
    "        df_qcu[fold][algo_names[i]] = df_msc"
   ]
  },
  {
   "cell_type": "code",
   "execution_count": 33,
   "metadata": {
    "pycharm": {
     "name": "#%% calculate 𝑞˜(𝑐|𝑢) = (1 − 𝛼) · 𝑞(𝑐|𝑢) + 𝛼 · 𝑝(𝑐|𝑢), 𝛼 = 0.01\n"
    }
   },
   "outputs": [
    {
     "data": {
      "text/plain": "           user  cat    metric\n0       1021445    0  0.000095\n1       1021445    1  0.000037\n2       1021445   10  0.000049\n3       1021445   11  0.000036\n4       1021445   12  0.000041\n...         ...  ...       ...\n55121  50071075    5  0.000189\n55122  50071075    6  0.000087\n55123  50071075    7  0.000231\n55124  50071075    8  0.000011\n55125  50071075    9  0.000024\n\n[55126 rows x 3 columns]",
      "text/html": "<div>\n<style scoped>\n    .dataframe tbody tr th:only-of-type {\n        vertical-align: middle;\n    }\n\n    .dataframe tbody tr th {\n        vertical-align: top;\n    }\n\n    .dataframe thead th {\n        text-align: right;\n    }\n</style>\n<table border=\"1\" class=\"dataframe\">\n  <thead>\n    <tr style=\"text-align: right;\">\n      <th></th>\n      <th>user</th>\n      <th>cat</th>\n      <th>metric</th>\n    </tr>\n  </thead>\n  <tbody>\n    <tr>\n      <th>0</th>\n      <td>1021445</td>\n      <td>0</td>\n      <td>0.000095</td>\n    </tr>\n    <tr>\n      <th>1</th>\n      <td>1021445</td>\n      <td>1</td>\n      <td>0.000037</td>\n    </tr>\n    <tr>\n      <th>2</th>\n      <td>1021445</td>\n      <td>10</td>\n      <td>0.000049</td>\n    </tr>\n    <tr>\n      <th>3</th>\n      <td>1021445</td>\n      <td>11</td>\n      <td>0.000036</td>\n    </tr>\n    <tr>\n      <th>4</th>\n      <td>1021445</td>\n      <td>12</td>\n      <td>0.000041</td>\n    </tr>\n    <tr>\n      <th>...</th>\n      <td>...</td>\n      <td>...</td>\n      <td>...</td>\n    </tr>\n    <tr>\n      <th>55121</th>\n      <td>50071075</td>\n      <td>5</td>\n      <td>0.000189</td>\n    </tr>\n    <tr>\n      <th>55122</th>\n      <td>50071075</td>\n      <td>6</td>\n      <td>0.000087</td>\n    </tr>\n    <tr>\n      <th>55123</th>\n      <td>50071075</td>\n      <td>7</td>\n      <td>0.000231</td>\n    </tr>\n    <tr>\n      <th>55124</th>\n      <td>50071075</td>\n      <td>8</td>\n      <td>0.000011</td>\n    </tr>\n    <tr>\n      <th>55125</th>\n      <td>50071075</td>\n      <td>9</td>\n      <td>0.000024</td>\n    </tr>\n  </tbody>\n</table>\n<p>55126 rows × 3 columns</p>\n</div>"
     },
     "execution_count": 33,
     "metadata": {},
     "output_type": "execute_result"
    }
   ],
   "source": [
    "alpha = .01\n",
    "\n",
    "# 𝛼 · 𝑝(𝑐|𝑢)\n",
    "df_pcu_a = df_pcu.copy()\n",
    "df_pcu_a.loc[:,'metric'] *= alpha\n",
    "df_pcu_a['user']=df_pcu_a['user'].astype(int)\n",
    "df_pcu_a['cat']=df_pcu_a['cat'].astype(int)\n",
    "\n",
    "df_pcu_a"
   ]
  },
  {
   "cell_type": "code",
   "execution_count": 34,
   "metadata": {
    "pycharm": {
     "name": "#%%\n"
    }
   },
   "outputs": [
    {
     "data": {
      "text/plain": "0.0"
     },
     "execution_count": 34,
     "metadata": {},
     "output_type": "execute_result"
    }
   ],
   "source": [
    "df_pcu_a.loc[df_pcu_a['user'] == 3]['metric'].sum()"
   ]
  },
  {
   "cell_type": "code",
   "execution_count": 35,
   "metadata": {
    "pycharm": {
     "name": "#%%\n"
    }
   },
   "outputs": [],
   "source": [
    "def calc_MCkl(df_qcu_, df_pcu_a, df_pcu):\n",
    "    cols_q_head = ['user', 'cat']\n",
    "\n",
    "    # (1 − 𝛼) · 𝑞(𝑐|𝑢)\n",
    "    df_qcu = df_qcu_.copy()\n",
    "    df_qcu.loc[:,'metric'] *= (1 - alpha)\n",
    "    df_qcu['user'] = df_qcu['user'].astype(int)\n",
    "    df_qcu['cat'] = df_qcu['cat'].astype(int)\n",
    "\n",
    "    # 𝑞˜(𝑐|𝑢) allmusic\n",
    "    df_q_head = df_pcu_a.join(df_qcu.set_index(cols_q_head), on=cols_q_head, lsuffix='_left', rsuffix='_right').fillna(0)\n",
    "    df_q_head['q_head'] = df_q_head['metric_left'] + df_q_head['metric_right']\n",
    "    df_pcu['cat'] = df_pcu['cat'].astype(int)\n",
    "    df_q_head = df_q_head.join(df_pcu.set_index(cols_q_head), on=cols_q_head)\n",
    "\n",
    "    # calculate MC_kl allmusic\n",
    "    df_q_head['mc'] = df_q_head['metric'] * np.log(df_q_head['metric']/ df_q_head['q_head'])\n",
    "\n",
    "    l_cat_mc = []\n",
    "    for group in [low_users, medium_users, high_users]:\n",
    "        l_cat_mc.append(df_q_head.loc[df_q_head['user'].isin(group.index)].drop('user', axis=1).groupby('cat')['mc'].mean())\n",
    "\n",
    "    df_MC_kl = df_q_head.groupby('user')['mc'].sum().reset_index()\n",
    "    return df_MC_kl, l_cat_mc\n"
   ]
  },
  {
   "cell_type": "code",
   "execution_count": 36,
   "metadata": {
    "pycharm": {
     "name": "#%%\n"
    }
   },
   "outputs": [
    {
     "name": "stdout",
     "output_type": "stream",
     "text": [
      "UserItemAvg\n",
      "--------------------------------------\n",
      "      user        mc\n",
      "0  1021445  0.561455\n",
      "1  1045479  0.381837\n",
      "2  1058776  0.533545\n",
      "3  1058825  0.237419\n",
      "4  1070023  0.651174\n",
      "--------------------------------------\n",
      "Avg Total 0.4737090035229624\n",
      "Avg Low 0.5192491446922265\n",
      "Avg Med 0.47898663869049785\n",
      "Avg High 0.4228912271861629\n",
      "95% (0.4662432291076001, 0.48117477793832475)\n",
      "Ttest_indResult(statistic=4.128935989061391, pvalue=3.794422518145193e-05)\n",
      "Ttest_indResult(statistic=10.028810390439114, pvalue=3.971788602049018e-23)\n",
      "======================================\n",
      "\n",
      "UserKNN\n",
      "--------------------------------------\n",
      "      user        mc\n",
      "0  1021445  0.438690\n",
      "1  1045479  0.332369\n",
      "2  1058776  0.738804\n",
      "3  1058825  0.244499\n",
      "4  1070023  0.449828\n",
      "--------------------------------------\n",
      "Avg Total 0.485088703423117\n",
      "Avg Low 0.5146562683769079\n",
      "Avg Med 0.49502861001593645\n",
      "Avg High 0.44558123187650645\n",
      "95% (0.478272288251542, 0.491905118594692)\n",
      "Ttest_indResult(statistic=2.2406022830146535, pvalue=0.02516134169703154)\n",
      "Ttest_indResult(statistic=7.983636733651721, pvalue=2.374080816880409e-15)\n",
      "======================================\n",
      "\n",
      "UserKNNAvg\n",
      "--------------------------------------\n",
      "      user        mc\n",
      "0  1021445  0.449845\n",
      "1  1045479  0.320292\n",
      "2  1058776  0.589849\n",
      "3  1058825  0.213032\n",
      "4  1070023  0.421216\n",
      "--------------------------------------\n",
      "Avg Total 0.45721557898580567\n",
      "Avg Low 0.48594203160163213\n",
      "Avg Med 0.4680371046036117\n",
      "Avg High 0.4176676007521729\n",
      "95% (0.4509331476970764, 0.46349801027453497)\n",
      "Ttest_indResult(statistic=2.217100770827265, pvalue=0.026728385517197518)\n",
      "Ttest_indResult(statistic=8.73692772369845, pvalue=4.96890306737709e-18)\n",
      "======================================\n",
      "\n",
      "NMF\n",
      "--------------------------------------\n",
      "      user        mc\n",
      "0  1021445  0.371834\n",
      "1  1045479  0.344820\n",
      "2  1058776  0.498422\n",
      "3  1058825  0.357266\n",
      "4  1070023  0.636038\n",
      "--------------------------------------\n",
      "Avg Total 0.5155631034422434\n",
      "Avg Low 0.543968350209048\n",
      "Avg Med 0.5207720720233675\n",
      "Avg High 0.48194888809431463\n",
      "95% (0.5085558908818322, 0.5225703160026547)\n",
      "Ttest_indResult(statistic=2.6512830157171345, pvalue=0.008082014615874638)\n",
      "Ttest_indResult(statistic=7.04277153024162, pvalue=2.5822633117194984e-12)\n",
      "======================================\n",
      "\n",
      "Co-Custering\n",
      "--------------------------------------\n",
      "      user        mc\n",
      "0  1021445  0.457906\n",
      "1  1045479  0.350140\n",
      "2  1058776  0.645228\n",
      "3  1058825  0.286753\n",
      "4  1070023  0.409628\n",
      "--------------------------------------\n",
      "Avg Total 0.4934961339911978\n",
      "Avg Low 0.517978976103202\n",
      "Avg Med 0.5107663310957526\n",
      "Avg High 0.45174309477463886\n",
      "95% (0.4865023102993523, 0.5004899576830433)\n",
      "Ttest_indResult(statistic=0.8086607122170284, pvalue=0.4188066095666785)\n",
      "Ttest_indResult(statistic=7.573440081318267, pvalue=5.520626572395388e-14)\n",
      "======================================\n",
      "\n"
     ]
    }
   ],
   "source": [
    "cols_q_head = ['user', 'cat']\n",
    "MC_kl_d = {}\n",
    "MC_cat_d = {}\n",
    "df_metrics = pd.DataFrame()\n",
    "df_metrics_low = pd.DataFrame()\n",
    "df_metrics_med = pd.DataFrame()\n",
    "df_metrics_high = pd.DataFrame()\n",
    "# for each algo (Random, KNN, ...)\n",
    "for i in range(0, len(algo_names)):\n",
    "    print(algo_names[i])\n",
    "    print('--------------------------------------')\n",
    "\n",
    "    l_cat_mcs = [0 for _ in range(3000)]\n",
    "    MC_kl = None\n",
    "    for fold in range(folds):\n",
    "        df_mc, list_cat_mc = calc_MCkl(df_qcu[fold][algo_names[i]], df_pcu_a, df_pcu)\n",
    "        if MC_kl is None:\n",
    "            MC_kl = df_mc\n",
    "            MC_kl['mc'] /= folds\n",
    "        else:\n",
    "            MC_kl['mc'] += df_mc['mc'] / folds\n",
    "        l_cat_mcs = [l_cat_mcs[i] + list_cat_mc[i]/folds for i in range(len(list_cat_mc))]\n",
    "\n",
    "    print(MC_kl.head())\n",
    "    print('--------------------------------------')\n",
    "    print('Avg Total', MC_kl['mc'].mean())\n",
    "    print('Avg Low', MC_kl.loc[MC_kl['user'].isin(low_users.index)]['mc'].mean())\n",
    "    print('Avg Med', MC_kl.loc[MC_kl['user'].isin(medium_users.index)]['mc'].mean())\n",
    "    print('Avg High', MC_kl.loc[MC_kl['user'].isin(high_users.index)]['mc'].mean())\n",
    "    print('95%', stats.t.interval(alpha=0.95, df=len(MC_kl['mc'].tolist())-1, loc=np.mean(MC_kl['mc'].tolist()), scale=stats.sem(MC_kl['mc'].tolist())))\n",
    "\n",
    "    MC_kl_d[algo_names[i]] = MC_kl\n",
    "    df_metrics[algo_names[i]] = MC_kl['mc']\n",
    "    MC_cat_d[algo_names[i]] = l_cat_mcs\n",
    "\n",
    "    df_metrics_low[algo_names[i]] = MC_kl.loc[MC_kl['user'].isin(low_users.index)]['mc']\n",
    "    df_metrics_med[algo_names[i]] = MC_kl.loc[MC_kl['user'].isin(medium_users.index)]['mc']\n",
    "    df_metrics_high[algo_names[i]] = MC_kl.loc[MC_kl['user'].isin(high_users.index)]['mc']\n",
    "\n",
    "    print(stats.ttest_ind(MC_kl.loc[MC_kl['user'].isin(low_users.index)]['mc'], MC_kl.loc[MC_kl['user'].isin(medium_users.index)]['mc']))\n",
    "    print(stats.ttest_ind(MC_kl.loc[MC_kl['user'].isin(low_users.index)]['mc'], MC_kl.loc[MC_kl['user'].isin(high_users.index)]['mc']))\n",
    "\n",
    "    print('======================================\\n')"
   ]
  },
  {
   "cell_type": "code",
   "execution_count": 37,
   "metadata": {
    "pycharm": {
     "name": "#%%\n"
    }
   },
   "outputs": [
    {
     "ename": "OSError",
     "evalue": "Cannot save file into a non-existent directory: 'music\\results'",
     "output_type": "error",
     "traceback": [
      "\u001B[1;31m---------------------------------------------------------------------------\u001B[0m",
      "\u001B[1;31mOSError\u001B[0m                                   Traceback (most recent call last)",
      "Input \u001B[1;32mIn [37]\u001B[0m, in \u001B[0;36m<cell line: 2>\u001B[1;34m()\u001B[0m\n\u001B[0;32m      1\u001B[0m users \u001B[38;5;241m=\u001B[39m pd\u001B[38;5;241m.\u001B[39mconcat([low_users, medium_users, high_users])\n\u001B[0;32m      2\u001B[0m \u001B[38;5;28;01mfor\u001B[39;00m i \u001B[38;5;129;01min\u001B[39;00m \u001B[38;5;28mrange\u001B[39m(\u001B[38;5;28mlen\u001B[39m(algo_names)):\n\u001B[1;32m----> 3\u001B[0m     \u001B[43mmaes_user\u001B[49m\u001B[43m[\u001B[49m\u001B[43malgo_names\u001B[49m\u001B[43m[\u001B[49m\u001B[43mi\u001B[49m\u001B[43m]\u001B[49m\u001B[43m]\u001B[49m\u001B[38;5;241;43m.\u001B[39;49m\u001B[43mloc\u001B[49m\u001B[43m[\u001B[49m\u001B[43mmaes_user\u001B[49m\u001B[43m[\u001B[49m\u001B[43malgo_names\u001B[49m\u001B[43m[\u001B[49m\u001B[43mi\u001B[49m\u001B[43m]\u001B[49m\u001B[43m]\u001B[49m\u001B[43m[\u001B[49m\u001B[38;5;124;43m'\u001B[39;49m\u001B[38;5;124;43muser\u001B[39;49m\u001B[38;5;124;43m'\u001B[39;49m\u001B[43m]\u001B[49m\u001B[38;5;241;43m.\u001B[39;49m\u001B[43misin\u001B[49m\u001B[43m(\u001B[49m\u001B[43musers\u001B[49m\u001B[38;5;241;43m.\u001B[39;49m\u001B[43mindex\u001B[49m\u001B[43m)\u001B[49m\u001B[43m]\u001B[49m\u001B[38;5;241;43m.\u001B[39;49m\u001B[43mgroupby\u001B[49m\u001B[43m(\u001B[49m\u001B[38;5;124;43m'\u001B[39;49m\u001B[38;5;124;43muser\u001B[39;49m\u001B[38;5;124;43m'\u001B[39;49m\u001B[43m)\u001B[49m\u001B[43m[\u001B[49m\u001B[38;5;124;43m'\u001B[39;49m\u001B[38;5;124;43mmae\u001B[39;49m\u001B[38;5;124;43m'\u001B[39;49m\u001B[43m]\u001B[49m\u001B[38;5;241;43m.\u001B[39;49m\u001B[43mmean\u001B[49m\u001B[43m(\u001B[49m\u001B[43m)\u001B[49m\u001B[38;5;241;43m.\u001B[39;49m\u001B[43mreset_index\u001B[49m\u001B[43m(\u001B[49m\u001B[43m)\u001B[49m\u001B[38;5;241;43m.\u001B[39;49m\u001B[43mmerge\u001B[49m\u001B[43m(\u001B[49m\u001B[43mpls\u001B[49m\u001B[43m[\u001B[49m\u001B[43malgo_names\u001B[49m\u001B[43m[\u001B[49m\u001B[43mi\u001B[49m\u001B[43m]\u001B[49m\u001B[43m]\u001B[49m\u001B[38;5;241;43m.\u001B[39;49m\u001B[43mloc\u001B[49m\u001B[43m[\u001B[49m\u001B[43mpls\u001B[49m\u001B[43m[\u001B[49m\u001B[43malgo_names\u001B[49m\u001B[43m[\u001B[49m\u001B[43mi\u001B[49m\u001B[43m]\u001B[49m\u001B[43m]\u001B[49m\u001B[43m[\u001B[49m\u001B[38;5;124;43m'\u001B[39;49m\u001B[38;5;124;43muser\u001B[39;49m\u001B[38;5;124;43m'\u001B[39;49m\u001B[43m]\u001B[49m\u001B[38;5;241;43m.\u001B[39;49m\u001B[43misin\u001B[49m\u001B[43m(\u001B[49m\u001B[43musers\u001B[49m\u001B[38;5;241;43m.\u001B[39;49m\u001B[43mindex\u001B[49m\u001B[43m)\u001B[49m\u001B[43m]\u001B[49m\u001B[43m,\u001B[49m\u001B[43m \u001B[49m\u001B[43mon\u001B[49m\u001B[38;5;241;43m=\u001B[39;49m\u001B[38;5;124;43m'\u001B[39;49m\u001B[38;5;124;43muser\u001B[39;49m\u001B[38;5;124;43m'\u001B[39;49m\u001B[43m)\u001B[49m\u001B[38;5;241;43m.\u001B[39;49m\u001B[43mmerge\u001B[49m\u001B[43m(\u001B[49m\u001B[43mMC_kl_d\u001B[49m\u001B[43m[\u001B[49m\u001B[43malgo_names\u001B[49m\u001B[43m[\u001B[49m\u001B[43mi\u001B[49m\u001B[43m]\u001B[49m\u001B[43m]\u001B[49m\u001B[38;5;241;43m.\u001B[39;49m\u001B[43mloc\u001B[49m\u001B[43m[\u001B[49m\u001B[43mMC_kl_d\u001B[49m\u001B[43m[\u001B[49m\u001B[43malgo_names\u001B[49m\u001B[43m[\u001B[49m\u001B[43mi\u001B[49m\u001B[43m]\u001B[49m\u001B[43m]\u001B[49m\u001B[43m[\u001B[49m\u001B[38;5;124;43m'\u001B[39;49m\u001B[38;5;124;43muser\u001B[39;49m\u001B[38;5;124;43m'\u001B[39;49m\u001B[43m]\u001B[49m\u001B[38;5;241;43m.\u001B[39;49m\u001B[43misin\u001B[49m\u001B[43m(\u001B[49m\u001B[43musers\u001B[49m\u001B[38;5;241;43m.\u001B[39;49m\u001B[43mindex\u001B[49m\u001B[43m)\u001B[49m\u001B[43m]\u001B[49m\u001B[43m,\u001B[49m\u001B[43m \u001B[49m\u001B[43mon\u001B[49m\u001B[38;5;241;43m=\u001B[39;49m\u001B[38;5;124;43m'\u001B[39;49m\u001B[38;5;124;43muser\u001B[39;49m\u001B[38;5;124;43m'\u001B[39;49m\u001B[43m)\u001B[49m\u001B[38;5;241;43m.\u001B[39;49m\u001B[43mto_csv\u001B[49m\u001B[43m(\u001B[49m\u001B[43mdataset\u001B[49m\u001B[43m \u001B[49m\u001B[38;5;241;43m+\u001B[39;49m\u001B[43m \u001B[49m\u001B[38;5;124;43m'\u001B[39;49m\u001B[38;5;124;43m/results/\u001B[39;49m\u001B[38;5;124;43m'\u001B[39;49m\u001B[43m \u001B[49m\u001B[38;5;241;43m+\u001B[39;49m\u001B[43m \u001B[49m\u001B[43malgo_names\u001B[49m\u001B[43m[\u001B[49m\u001B[43mi\u001B[49m\u001B[43m]\u001B[49m\u001B[43m \u001B[49m\u001B[38;5;241;43m+\u001B[39;49m\u001B[43m \u001B[49m\u001B[38;5;124;43m'\u001B[39;49m\u001B[38;5;124;43m.csv\u001B[39;49m\u001B[38;5;124;43m'\u001B[39;49m\u001B[43m,\u001B[49m\u001B[43m \u001B[49m\u001B[43msep\u001B[49m\u001B[38;5;241;43m=\u001B[39;49m\u001B[38;5;124;43m'\u001B[39;49m\u001B[38;5;124;43m;\u001B[39;49m\u001B[38;5;124;43m'\u001B[39;49m\u001B[43m)\u001B[49m\n",
      "File \u001B[1;32m~\\PycharmProjects\\LFM1b-analyses\\venv\\lib\\site-packages\\pandas\\core\\generic.py:3551\u001B[0m, in \u001B[0;36mNDFrame.to_csv\u001B[1;34m(self, path_or_buf, sep, na_rep, float_format, columns, header, index, index_label, mode, encoding, compression, quoting, quotechar, line_terminator, chunksize, date_format, doublequote, escapechar, decimal, errors, storage_options)\u001B[0m\n\u001B[0;32m   3540\u001B[0m df \u001B[38;5;241m=\u001B[39m \u001B[38;5;28mself\u001B[39m \u001B[38;5;28;01mif\u001B[39;00m \u001B[38;5;28misinstance\u001B[39m(\u001B[38;5;28mself\u001B[39m, ABCDataFrame) \u001B[38;5;28;01melse\u001B[39;00m \u001B[38;5;28mself\u001B[39m\u001B[38;5;241m.\u001B[39mto_frame()\n\u001B[0;32m   3542\u001B[0m formatter \u001B[38;5;241m=\u001B[39m DataFrameFormatter(\n\u001B[0;32m   3543\u001B[0m     frame\u001B[38;5;241m=\u001B[39mdf,\n\u001B[0;32m   3544\u001B[0m     header\u001B[38;5;241m=\u001B[39mheader,\n\u001B[1;32m   (...)\u001B[0m\n\u001B[0;32m   3548\u001B[0m     decimal\u001B[38;5;241m=\u001B[39mdecimal,\n\u001B[0;32m   3549\u001B[0m )\n\u001B[1;32m-> 3551\u001B[0m \u001B[38;5;28;01mreturn\u001B[39;00m \u001B[43mDataFrameRenderer\u001B[49m\u001B[43m(\u001B[49m\u001B[43mformatter\u001B[49m\u001B[43m)\u001B[49m\u001B[38;5;241;43m.\u001B[39;49m\u001B[43mto_csv\u001B[49m\u001B[43m(\u001B[49m\n\u001B[0;32m   3552\u001B[0m \u001B[43m    \u001B[49m\u001B[43mpath_or_buf\u001B[49m\u001B[43m,\u001B[49m\n\u001B[0;32m   3553\u001B[0m \u001B[43m    \u001B[49m\u001B[43mline_terminator\u001B[49m\u001B[38;5;241;43m=\u001B[39;49m\u001B[43mline_terminator\u001B[49m\u001B[43m,\u001B[49m\n\u001B[0;32m   3554\u001B[0m \u001B[43m    \u001B[49m\u001B[43msep\u001B[49m\u001B[38;5;241;43m=\u001B[39;49m\u001B[43msep\u001B[49m\u001B[43m,\u001B[49m\n\u001B[0;32m   3555\u001B[0m \u001B[43m    \u001B[49m\u001B[43mencoding\u001B[49m\u001B[38;5;241;43m=\u001B[39;49m\u001B[43mencoding\u001B[49m\u001B[43m,\u001B[49m\n\u001B[0;32m   3556\u001B[0m \u001B[43m    \u001B[49m\u001B[43merrors\u001B[49m\u001B[38;5;241;43m=\u001B[39;49m\u001B[43merrors\u001B[49m\u001B[43m,\u001B[49m\n\u001B[0;32m   3557\u001B[0m \u001B[43m    \u001B[49m\u001B[43mcompression\u001B[49m\u001B[38;5;241;43m=\u001B[39;49m\u001B[43mcompression\u001B[49m\u001B[43m,\u001B[49m\n\u001B[0;32m   3558\u001B[0m \u001B[43m    \u001B[49m\u001B[43mquoting\u001B[49m\u001B[38;5;241;43m=\u001B[39;49m\u001B[43mquoting\u001B[49m\u001B[43m,\u001B[49m\n\u001B[0;32m   3559\u001B[0m \u001B[43m    \u001B[49m\u001B[43mcolumns\u001B[49m\u001B[38;5;241;43m=\u001B[39;49m\u001B[43mcolumns\u001B[49m\u001B[43m,\u001B[49m\n\u001B[0;32m   3560\u001B[0m \u001B[43m    \u001B[49m\u001B[43mindex_label\u001B[49m\u001B[38;5;241;43m=\u001B[39;49m\u001B[43mindex_label\u001B[49m\u001B[43m,\u001B[49m\n\u001B[0;32m   3561\u001B[0m \u001B[43m    \u001B[49m\u001B[43mmode\u001B[49m\u001B[38;5;241;43m=\u001B[39;49m\u001B[43mmode\u001B[49m\u001B[43m,\u001B[49m\n\u001B[0;32m   3562\u001B[0m \u001B[43m    \u001B[49m\u001B[43mchunksize\u001B[49m\u001B[38;5;241;43m=\u001B[39;49m\u001B[43mchunksize\u001B[49m\u001B[43m,\u001B[49m\n\u001B[0;32m   3563\u001B[0m \u001B[43m    \u001B[49m\u001B[43mquotechar\u001B[49m\u001B[38;5;241;43m=\u001B[39;49m\u001B[43mquotechar\u001B[49m\u001B[43m,\u001B[49m\n\u001B[0;32m   3564\u001B[0m \u001B[43m    \u001B[49m\u001B[43mdate_format\u001B[49m\u001B[38;5;241;43m=\u001B[39;49m\u001B[43mdate_format\u001B[49m\u001B[43m,\u001B[49m\n\u001B[0;32m   3565\u001B[0m \u001B[43m    \u001B[49m\u001B[43mdoublequote\u001B[49m\u001B[38;5;241;43m=\u001B[39;49m\u001B[43mdoublequote\u001B[49m\u001B[43m,\u001B[49m\n\u001B[0;32m   3566\u001B[0m \u001B[43m    \u001B[49m\u001B[43mescapechar\u001B[49m\u001B[38;5;241;43m=\u001B[39;49m\u001B[43mescapechar\u001B[49m\u001B[43m,\u001B[49m\n\u001B[0;32m   3567\u001B[0m \u001B[43m    \u001B[49m\u001B[43mstorage_options\u001B[49m\u001B[38;5;241;43m=\u001B[39;49m\u001B[43mstorage_options\u001B[49m\u001B[43m,\u001B[49m\n\u001B[0;32m   3568\u001B[0m \u001B[43m\u001B[49m\u001B[43m)\u001B[49m\n",
      "File \u001B[1;32m~\\PycharmProjects\\LFM1b-analyses\\venv\\lib\\site-packages\\pandas\\io\\formats\\format.py:1180\u001B[0m, in \u001B[0;36mDataFrameRenderer.to_csv\u001B[1;34m(self, path_or_buf, encoding, sep, columns, index_label, mode, compression, quoting, quotechar, line_terminator, chunksize, date_format, doublequote, escapechar, errors, storage_options)\u001B[0m\n\u001B[0;32m   1159\u001B[0m     created_buffer \u001B[38;5;241m=\u001B[39m \u001B[38;5;28;01mFalse\u001B[39;00m\n\u001B[0;32m   1161\u001B[0m csv_formatter \u001B[38;5;241m=\u001B[39m CSVFormatter(\n\u001B[0;32m   1162\u001B[0m     path_or_buf\u001B[38;5;241m=\u001B[39mpath_or_buf,\n\u001B[0;32m   1163\u001B[0m     line_terminator\u001B[38;5;241m=\u001B[39mline_terminator,\n\u001B[1;32m   (...)\u001B[0m\n\u001B[0;32m   1178\u001B[0m     formatter\u001B[38;5;241m=\u001B[39m\u001B[38;5;28mself\u001B[39m\u001B[38;5;241m.\u001B[39mfmt,\n\u001B[0;32m   1179\u001B[0m )\n\u001B[1;32m-> 1180\u001B[0m \u001B[43mcsv_formatter\u001B[49m\u001B[38;5;241;43m.\u001B[39;49m\u001B[43msave\u001B[49m\u001B[43m(\u001B[49m\u001B[43m)\u001B[49m\n\u001B[0;32m   1182\u001B[0m \u001B[38;5;28;01mif\u001B[39;00m created_buffer:\n\u001B[0;32m   1183\u001B[0m     \u001B[38;5;28;01massert\u001B[39;00m \u001B[38;5;28misinstance\u001B[39m(path_or_buf, StringIO)\n",
      "File \u001B[1;32m~\\PycharmProjects\\LFM1b-analyses\\venv\\lib\\site-packages\\pandas\\io\\formats\\csvs.py:241\u001B[0m, in \u001B[0;36mCSVFormatter.save\u001B[1;34m(self)\u001B[0m\n\u001B[0;32m    237\u001B[0m \u001B[38;5;124;03m\"\"\"\u001B[39;00m\n\u001B[0;32m    238\u001B[0m \u001B[38;5;124;03mCreate the writer & save.\u001B[39;00m\n\u001B[0;32m    239\u001B[0m \u001B[38;5;124;03m\"\"\"\u001B[39;00m\n\u001B[0;32m    240\u001B[0m \u001B[38;5;66;03m# apply compression and byte/text conversion\u001B[39;00m\n\u001B[1;32m--> 241\u001B[0m \u001B[38;5;28;01mwith\u001B[39;00m \u001B[43mget_handle\u001B[49m\u001B[43m(\u001B[49m\n\u001B[0;32m    242\u001B[0m \u001B[43m    \u001B[49m\u001B[38;5;28;43mself\u001B[39;49m\u001B[38;5;241;43m.\u001B[39;49m\u001B[43mfilepath_or_buffer\u001B[49m\u001B[43m,\u001B[49m\n\u001B[0;32m    243\u001B[0m \u001B[43m    \u001B[49m\u001B[38;5;28;43mself\u001B[39;49m\u001B[38;5;241;43m.\u001B[39;49m\u001B[43mmode\u001B[49m\u001B[43m,\u001B[49m\n\u001B[0;32m    244\u001B[0m \u001B[43m    \u001B[49m\u001B[43mencoding\u001B[49m\u001B[38;5;241;43m=\u001B[39;49m\u001B[38;5;28;43mself\u001B[39;49m\u001B[38;5;241;43m.\u001B[39;49m\u001B[43mencoding\u001B[49m\u001B[43m,\u001B[49m\n\u001B[0;32m    245\u001B[0m \u001B[43m    \u001B[49m\u001B[43merrors\u001B[49m\u001B[38;5;241;43m=\u001B[39;49m\u001B[38;5;28;43mself\u001B[39;49m\u001B[38;5;241;43m.\u001B[39;49m\u001B[43merrors\u001B[49m\u001B[43m,\u001B[49m\n\u001B[0;32m    246\u001B[0m \u001B[43m    \u001B[49m\u001B[43mcompression\u001B[49m\u001B[38;5;241;43m=\u001B[39;49m\u001B[38;5;28;43mself\u001B[39;49m\u001B[38;5;241;43m.\u001B[39;49m\u001B[43mcompression\u001B[49m\u001B[43m,\u001B[49m\n\u001B[0;32m    247\u001B[0m \u001B[43m    \u001B[49m\u001B[43mstorage_options\u001B[49m\u001B[38;5;241;43m=\u001B[39;49m\u001B[38;5;28;43mself\u001B[39;49m\u001B[38;5;241;43m.\u001B[39;49m\u001B[43mstorage_options\u001B[49m\u001B[43m,\u001B[49m\n\u001B[0;32m    248\u001B[0m \u001B[43m\u001B[49m\u001B[43m)\u001B[49m \u001B[38;5;28;01mas\u001B[39;00m handles:\n\u001B[0;32m    249\u001B[0m \n\u001B[0;32m    250\u001B[0m     \u001B[38;5;66;03m# Note: self.encoding is irrelevant here\u001B[39;00m\n\u001B[0;32m    251\u001B[0m     \u001B[38;5;28mself\u001B[39m\u001B[38;5;241m.\u001B[39mwriter \u001B[38;5;241m=\u001B[39m csvlib\u001B[38;5;241m.\u001B[39mwriter(\n\u001B[0;32m    252\u001B[0m         handles\u001B[38;5;241m.\u001B[39mhandle,\n\u001B[0;32m    253\u001B[0m         lineterminator\u001B[38;5;241m=\u001B[39m\u001B[38;5;28mself\u001B[39m\u001B[38;5;241m.\u001B[39mline_terminator,\n\u001B[1;32m   (...)\u001B[0m\n\u001B[0;32m    258\u001B[0m         quotechar\u001B[38;5;241m=\u001B[39m\u001B[38;5;28mself\u001B[39m\u001B[38;5;241m.\u001B[39mquotechar,\n\u001B[0;32m    259\u001B[0m     )\n\u001B[0;32m    261\u001B[0m     \u001B[38;5;28mself\u001B[39m\u001B[38;5;241m.\u001B[39m_save()\n",
      "File \u001B[1;32m~\\PycharmProjects\\LFM1b-analyses\\venv\\lib\\site-packages\\pandas\\io\\common.py:697\u001B[0m, in \u001B[0;36mget_handle\u001B[1;34m(path_or_buf, mode, encoding, compression, memory_map, is_text, errors, storage_options)\u001B[0m\n\u001B[0;32m    695\u001B[0m \u001B[38;5;66;03m# Only for write methods\u001B[39;00m\n\u001B[0;32m    696\u001B[0m \u001B[38;5;28;01mif\u001B[39;00m \u001B[38;5;124m\"\u001B[39m\u001B[38;5;124mr\u001B[39m\u001B[38;5;124m\"\u001B[39m \u001B[38;5;129;01mnot\u001B[39;00m \u001B[38;5;129;01min\u001B[39;00m mode \u001B[38;5;129;01mand\u001B[39;00m is_path:\n\u001B[1;32m--> 697\u001B[0m     \u001B[43mcheck_parent_directory\u001B[49m\u001B[43m(\u001B[49m\u001B[38;5;28;43mstr\u001B[39;49m\u001B[43m(\u001B[49m\u001B[43mhandle\u001B[49m\u001B[43m)\u001B[49m\u001B[43m)\u001B[49m\n\u001B[0;32m    699\u001B[0m \u001B[38;5;28;01mif\u001B[39;00m compression:\n\u001B[0;32m    700\u001B[0m     \u001B[38;5;28;01mif\u001B[39;00m compression \u001B[38;5;241m!=\u001B[39m \u001B[38;5;124m\"\u001B[39m\u001B[38;5;124mzstd\u001B[39m\u001B[38;5;124m\"\u001B[39m:\n\u001B[0;32m    701\u001B[0m         \u001B[38;5;66;03m# compression libraries do not like an explicit text-mode\u001B[39;00m\n",
      "File \u001B[1;32m~\\PycharmProjects\\LFM1b-analyses\\venv\\lib\\site-packages\\pandas\\io\\common.py:571\u001B[0m, in \u001B[0;36mcheck_parent_directory\u001B[1;34m(path)\u001B[0m\n\u001B[0;32m    569\u001B[0m parent \u001B[38;5;241m=\u001B[39m Path(path)\u001B[38;5;241m.\u001B[39mparent\n\u001B[0;32m    570\u001B[0m \u001B[38;5;28;01mif\u001B[39;00m \u001B[38;5;129;01mnot\u001B[39;00m parent\u001B[38;5;241m.\u001B[39mis_dir():\n\u001B[1;32m--> 571\u001B[0m     \u001B[38;5;28;01mraise\u001B[39;00m \u001B[38;5;167;01mOSError\u001B[39;00m(\u001B[38;5;124mrf\u001B[39m\u001B[38;5;124m\"\u001B[39m\u001B[38;5;124mCannot save file into a non-existent directory: \u001B[39m\u001B[38;5;124m'\u001B[39m\u001B[38;5;132;01m{\u001B[39;00mparent\u001B[38;5;132;01m}\u001B[39;00m\u001B[38;5;124m'\u001B[39m\u001B[38;5;124m\"\u001B[39m)\n",
      "\u001B[1;31mOSError\u001B[0m: Cannot save file into a non-existent directory: 'music\\results'"
     ]
    }
   ],
   "source": [
    "# Saves the calculated metrics for each algorithm\n",
    "users = pd.concat([low_users, medium_users, high_users])\n",
    "for i in range(len(algo_names)):\n",
    "    if save_metrics:\n",
    "        maes_user[algo_names[i]].loc[maes_user[algo_names[i]]['user'].isin(users.index)].groupby('user')['mae'].mean().reset_index().merge(pls[algo_names[i]].loc[pls[algo_names[i]]['user'].isin(users.index)], on='user').merge(MC_kl_d[algo_names[i]].loc[MC_kl_d[algo_names[i]]['user'].isin(users.index)], on='user').to_csv( 'output/' + algo_names[i] + '.csv', sep=';')"
   ]
  },
  {
   "cell_type": "markdown",
   "source": [
    "## Genre miscalibration sorted by count"
   ],
   "metadata": {
    "collapsed": false,
    "pycharm": {
     "name": "#%% md\n"
    }
   }
  },
  {
   "cell_type": "markdown",
   "metadata": {
    "pycharm": {
     "name": "#%% md\n"
    }
   },
   "source": [
    "Only a few genres are responsible for the high miscalibration value of certain groups. This is due to user profiles having an unproportionate amount of pertaining to these genres. We therefore will also not see any or only a weak correlation with the popularity lift metric, as those (popular) genres may not be the same as the ones creating a high miscalibration."
   ]
  },
  {
   "cell_type": "code",
   "execution_count": 38,
   "outputs": [],
   "source": [
    "nmf = 3"
   ],
   "metadata": {
    "collapsed": false,
    "pycharm": {
     "name": "#%%\n"
    }
   }
  },
  {
   "cell_type": "code",
   "execution_count": 40,
   "outputs": [
    {
     "data": {
      "text/plain": "<Figure size 432x216 with 1 Axes>",
      "image/png": "[encoded data removed]"
     },
     "metadata": {
      "needs_background": "light"
     },
     "output_type": "display_data"
    }
   ],
   "source": [
    "# durch reset_index nicht die selben index wie die gemergde tabelle, deshalb probleme\n",
    "df_6 = df_test.copy(deep=True)#.sort_values('count',ignore_index=True, ascending=False).drop(range(20, 44)).reset_index(drop=True)\n",
    "groups = ['LowPop', 'MedPop', 'HighPop']\n",
    "for i in range(len(groups)):\n",
    "    df_6[groups[i]] = MC_cat_d[algo_names[nmf]][i].to_frame()['mc']\n",
    "df_6 = df_6.sort_values('count',ignore_index=True, ascending=False)\n",
    "if dataset == 'anime':\n",
    "    df_6 = df_6.drop(range(20, 36)).reset_index(drop=True)\n",
    "    df_6 = df_6.drop(range(21, 28)).reset_index(drop=True)\n",
    "    df_6 = df_6.drop(range(7, 8)).reset_index(drop=True)\n",
    "df_6.plot.line(y=groups, x='category', figsize=(6, 3), legend=True)\n",
    "labels = [label.capitalize() for label in list(df_6['category'])]\n",
    "\n",
    "plt.title({'anime':'MAL', 'book':'BookCrossing', 'movie':'ML', 'music':'LFM', 'yahoo':'Yahoo! Movies'}[dataset])\n",
    "plt.xticks(ticks=range(len(labels)), labels=labels, rotation=90)\n",
    "# if type == 'music':\n",
    "plt.ylabel(\"Miscalibration\")\n",
    "plt.xlabel(\"\")\n",
    "plt.savefig('output/' + dataset + '_genre_mc_count_' + algo_names[nmf] + '.pdf', dpi=300, bbox_inches='tight')\n",
    "plt.show()"
   ],
   "metadata": {
    "collapsed": false,
    "pycharm": {
     "name": "#%%\n"
    }
   }
  },
  {
   "cell_type": "markdown",
   "source": [
    "## Genre MAE sorted by count"
   ],
   "metadata": {
    "collapsed": false,
    "pycharm": {
     "name": "#%% md\n"
    }
   }
  },
  {
   "cell_type": "code",
   "execution_count": 42,
   "outputs": [
    {
     "data": {
      "text/plain": "<Figure size 432x216 with 1 Axes>",
      "image/png": "[encoded data removed]"
     },
     "metadata": {
      "needs_background": "light"
     },
     "output_type": "display_data"
    }
   ],
   "source": [
    "df_7 = df_test.copy(deep=True)\n",
    "groups = ['LowPop', 'MedPop', 'HighPop']\n",
    "for i in range(len(groups)):\n",
    "    df_mae_item = maes[algo_names[nmf]]\n",
    "    df_mae_item = df_mae_item.loc[df_mae_item['user'].isin([low_users, medium_users, high_users][i].index)].drop(['user'], axis=1)\n",
    "    df_mae_item['item'] = df_mae_item['item'].astype(int)\n",
    "    df_mae_item = df_mae_item.merge(df_item_cats,on='item', how='left')\n",
    "    df_mae_item[\"cats\"] = df_mae_item[\"cats\"].str.split(\"|\")\n",
    "    df_7[groups[i]] = df_mae_item.explode(\"cats\").reset_index(drop=True).drop(['item'], axis=1).groupby('cats')['mae'].mean().reset_index()['mae']\n",
    "\n",
    "df_7 = df_7.sort_values('count',ignore_index=True, ascending=False)\n",
    "if dataset == 'anime':\n",
    "    df_7 = df_7.drop(range(20, 36)).reset_index(drop=True)\n",
    "    df_7 = df_7.drop(range(21, 28)).reset_index(drop=True)\n",
    "df_7.plot.line(y=groups, x='category', figsize=(6, 3))\n",
    "labels = [label.capitalize() for label in list(df_7['category'])]\n",
    "\n",
    "plt.title({'anime':'MAL', 'book':'BookCrossing', 'movie':'ML', 'music':'LFM', 'yahoo':'Yahoo! Movies'}[dataset])\n",
    "plt.xticks(ticks=range(len(labels)), labels=labels, rotation=90)\n",
    "plt.ylabel(\"MAE\")\n",
    "plt.xlabel(\"\")\n",
    "plt.savefig('output/' + dataset + '_genre_mae_count_' + algo_names[nmf] + '.pdf', dpi=300, bbox_inches='tight')\n",
    "plt.show()"
   ],
   "metadata": {
    "collapsed": false,
    "pycharm": {
     "name": "#%%\n"
    }
   }
  },
  {
   "cell_type": "markdown",
   "source": [
    "## Genre popularity lift sorted by count"
   ],
   "metadata": {
    "collapsed": false,
    "pycharm": {
     "name": "#%% md\n"
    }
   }
  },
  {
   "cell_type": "code",
   "execution_count": 43,
   "outputs": [
    {
     "data": {
      "text/plain": "<Figure size 432x216 with 1 Axes>",
      "image/png": "[encoded data removed]"
     },
     "metadata": {
      "needs_background": "light"
     },
     "output_type": "display_data"
    }
   ],
   "source": [
    "df_8 = df_test.copy(deep=True)\n",
    "groups = ['LowPop', 'MedPop', 'HighPop']\n",
    "for i in range(len(groups)):\n",
    "    df_pl_items = pls_items[algo_names[nmf]]\n",
    "    df_pl_items = df_pl_items.loc[df_pl_items['user'].isin([low_users, medium_users, high_users][i].index)].drop(['user'], axis=1)\n",
    "    df_pl_items['item'] = df_pl_items['item'].astype(int)\n",
    "    df_pl_items = df_pl_items.merge(df_item_cats,on='item', how='left')\n",
    "    df_pl_items[\"cats\"] = df_pl_items[\"cats\"].str.split(\"|\")\n",
    "    df_8[groups[i]]  = df_pl_items.explode(\"cats\").reset_index(drop=True).drop(['item'], axis=1).groupby('cats')['pl'].mean().reset_index()['pl']\n",
    "\n",
    "df_8 = df_8.sort_values('count',ignore_index=True, ascending=False)\n",
    "if dataset == 'anime':\n",
    "    df_8 = df_8.drop(range(20, 36)).reset_index(drop=True)\n",
    "    df_8 = df_8.drop(range(21, 28)).reset_index(drop=True)\n",
    "    df_8 = df_8.drop(range(7, 8)).reset_index(drop=True)\n",
    "df_8.plot.line(y=groups, x='category', figsize=(6, 3), legend=False)\n",
    "labels = [label.capitalize() for label in list(df_8['category'])]\n",
    "\n",
    "plt.title({'anime':'MAL', 'book':'BookCrossing', 'movie':'ML', 'music':'LFM', 'yahoo':'Yahoo! Movies'}[dataset])\n",
    "plt.xticks(ticks=range(len(labels)), labels=labels, rotation=90)\n",
    "# if type == 'music':\n",
    "plt.ylabel(\"Popularity Lift\")\n",
    "plt.xlabel(\"\")\n",
    "plt.savefig('output/' + dataset + '_genre_pl_count_' + algo_names[nmf] + '.pdf', dpi=300, bbox_inches='tight')\n",
    "plt.show()"
   ],
   "metadata": {
    "collapsed": false,
    "pycharm": {
     "name": "#%%\n"
    }
   }
  },
  {
   "cell_type": "markdown",
   "source": [],
   "metadata": {
    "collapsed": false,
    "pycharm": {
     "name": "#%% md\n"
    }
   }
  },
  {
   "cell_type": "code",
   "execution_count": null,
   "metadata": {
    "pycharm": {
     "name": "#%%\n"
    }
   },
   "outputs": [],
   "source": []
  }
 ],
 "metadata": {
  "kernelspec": {
   "display_name": "Python 3 (ipykernel)",
   "language": "python",
   "name": "python3"
  },
  "language_info": {
   "codemirror_mode": {
    "name": "ipython",
    "version": 3
   },
   "file_extension": ".py",
   "mimetype": "text/x-python",
   "name": "python",
   "nbconvert_exporter": "python",
   "pygments_lexer": "ipython3",
   "version": "3.9.10"
  }
 },
 "nbformat": 4,
 "nbformat_minor": 2
}